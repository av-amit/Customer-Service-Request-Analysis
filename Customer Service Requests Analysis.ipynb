{
 "cells": [
  {
   "cell_type": "markdown",
   "id": "04313a6c",
   "metadata": {},
   "source": [
    "# Customer Service Requests Analysis"
   ]
  },
  {
   "cell_type": "code",
   "execution_count": 100,
   "id": "d78b718e",
   "metadata": {},
   "outputs": [],
   "source": [
    "# importing required libraries\n",
    "%matplotlib inline\n",
    "import numpy as np\n",
    "import pandas as pd\n",
    "\n",
    "import matplotlib.pyplot as plt\n",
    "from matplotlib import style\n",
    "import seaborn as sns\n",
    "from scipy import stats"
   ]
  },
  {
   "cell_type": "markdown",
   "id": "cbbb0bb1",
   "metadata": {},
   "source": [
    "# Task 1\n",
    "**1. Import a 311 NYC service request.**"
   ]
  },
  {
   "cell_type": "code",
   "execution_count": 101,
   "id": "bbca257a",
   "metadata": {},
   "outputs": [
    {
     "name": "stderr",
     "output_type": "stream",
     "text": [
      "C:\\Users\\amita\\anaconda3\\lib\\site-packages\\IPython\\core\\interactiveshell.py:3165: DtypeWarning: Columns (48,49) have mixed types.Specify dtype option on import or set low_memory=False.\n",
      "  has_raised = await self.run_ast_nodes(code_ast.body, cell_name,\n"
     ]
    }
   ],
   "source": [
    "#importing the original data file\n",
    "service311_original=pd.read_csv(\"311_Service_Requests_from_2010_to_Present.csv\")"
   ]
  },
  {
   "cell_type": "code",
   "execution_count": 102,
   "id": "c78c0357",
   "metadata": {},
   "outputs": [
    {
     "data": {
      "text/html": [
       "<div>\n",
       "<style scoped>\n",
       "    .dataframe tbody tr th:only-of-type {\n",
       "        vertical-align: middle;\n",
       "    }\n",
       "\n",
       "    .dataframe tbody tr th {\n",
       "        vertical-align: top;\n",
       "    }\n",
       "\n",
       "    .dataframe thead th {\n",
       "        text-align: right;\n",
       "    }\n",
       "</style>\n",
       "<table border=\"1\" class=\"dataframe\">\n",
       "  <thead>\n",
       "    <tr style=\"text-align: right;\">\n",
       "      <th></th>\n",
       "      <th>Unique Key</th>\n",
       "      <th>Created Date</th>\n",
       "      <th>Closed Date</th>\n",
       "      <th>Agency</th>\n",
       "      <th>Agency Name</th>\n",
       "      <th>Complaint Type</th>\n",
       "      <th>Descriptor</th>\n",
       "      <th>Location Type</th>\n",
       "      <th>Incident Zip</th>\n",
       "      <th>Incident Address</th>\n",
       "      <th>...</th>\n",
       "      <th>Bridge Highway Name</th>\n",
       "      <th>Bridge Highway Direction</th>\n",
       "      <th>Road Ramp</th>\n",
       "      <th>Bridge Highway Segment</th>\n",
       "      <th>Garage Lot Name</th>\n",
       "      <th>Ferry Direction</th>\n",
       "      <th>Ferry Terminal Name</th>\n",
       "      <th>Latitude</th>\n",
       "      <th>Longitude</th>\n",
       "      <th>Location</th>\n",
       "    </tr>\n",
       "  </thead>\n",
       "  <tbody>\n",
       "    <tr>\n",
       "      <th>0</th>\n",
       "      <td>32310363</td>\n",
       "      <td>12/31/2015 11:59:45 PM</td>\n",
       "      <td>01-01-16 0:55</td>\n",
       "      <td>NYPD</td>\n",
       "      <td>New York City Police Department</td>\n",
       "      <td>Noise - Street/Sidewalk</td>\n",
       "      <td>Loud Music/Party</td>\n",
       "      <td>Street/Sidewalk</td>\n",
       "      <td>10034.0</td>\n",
       "      <td>71 VERMILYEA AVENUE</td>\n",
       "      <td>...</td>\n",
       "      <td>NaN</td>\n",
       "      <td>NaN</td>\n",
       "      <td>NaN</td>\n",
       "      <td>NaN</td>\n",
       "      <td>NaN</td>\n",
       "      <td>NaN</td>\n",
       "      <td>NaN</td>\n",
       "      <td>40.865682</td>\n",
       "      <td>-73.923501</td>\n",
       "      <td>(40.86568153633767, -73.92350095571744)</td>\n",
       "    </tr>\n",
       "    <tr>\n",
       "      <th>1</th>\n",
       "      <td>32309934</td>\n",
       "      <td>12/31/2015 11:59:44 PM</td>\n",
       "      <td>01-01-16 1:26</td>\n",
       "      <td>NYPD</td>\n",
       "      <td>New York City Police Department</td>\n",
       "      <td>Blocked Driveway</td>\n",
       "      <td>No Access</td>\n",
       "      <td>Street/Sidewalk</td>\n",
       "      <td>11105.0</td>\n",
       "      <td>27-07 23 AVENUE</td>\n",
       "      <td>...</td>\n",
       "      <td>NaN</td>\n",
       "      <td>NaN</td>\n",
       "      <td>NaN</td>\n",
       "      <td>NaN</td>\n",
       "      <td>NaN</td>\n",
       "      <td>NaN</td>\n",
       "      <td>NaN</td>\n",
       "      <td>40.775945</td>\n",
       "      <td>-73.915094</td>\n",
       "      <td>(40.775945312321085, -73.91509393898605)</td>\n",
       "    </tr>\n",
       "    <tr>\n",
       "      <th>2</th>\n",
       "      <td>32309159</td>\n",
       "      <td>12/31/2015 11:59:29 PM</td>\n",
       "      <td>01-01-16 4:51</td>\n",
       "      <td>NYPD</td>\n",
       "      <td>New York City Police Department</td>\n",
       "      <td>Blocked Driveway</td>\n",
       "      <td>No Access</td>\n",
       "      <td>Street/Sidewalk</td>\n",
       "      <td>10458.0</td>\n",
       "      <td>2897 VALENTINE AVENUE</td>\n",
       "      <td>...</td>\n",
       "      <td>NaN</td>\n",
       "      <td>NaN</td>\n",
       "      <td>NaN</td>\n",
       "      <td>NaN</td>\n",
       "      <td>NaN</td>\n",
       "      <td>NaN</td>\n",
       "      <td>NaN</td>\n",
       "      <td>40.870325</td>\n",
       "      <td>-73.888525</td>\n",
       "      <td>(40.870324522111424, -73.88852464418646)</td>\n",
       "    </tr>\n",
       "    <tr>\n",
       "      <th>3</th>\n",
       "      <td>32305098</td>\n",
       "      <td>12/31/2015 11:57:46 PM</td>\n",
       "      <td>01-01-16 7:43</td>\n",
       "      <td>NYPD</td>\n",
       "      <td>New York City Police Department</td>\n",
       "      <td>Illegal Parking</td>\n",
       "      <td>Commercial Overnight Parking</td>\n",
       "      <td>Street/Sidewalk</td>\n",
       "      <td>10461.0</td>\n",
       "      <td>2940 BAISLEY AVENUE</td>\n",
       "      <td>...</td>\n",
       "      <td>NaN</td>\n",
       "      <td>NaN</td>\n",
       "      <td>NaN</td>\n",
       "      <td>NaN</td>\n",
       "      <td>NaN</td>\n",
       "      <td>NaN</td>\n",
       "      <td>NaN</td>\n",
       "      <td>40.835994</td>\n",
       "      <td>-73.828379</td>\n",
       "      <td>(40.83599404683083, -73.82837939584206)</td>\n",
       "    </tr>\n",
       "    <tr>\n",
       "      <th>4</th>\n",
       "      <td>32306529</td>\n",
       "      <td>12/31/2015 11:56:58 PM</td>\n",
       "      <td>01-01-16 3:24</td>\n",
       "      <td>NYPD</td>\n",
       "      <td>New York City Police Department</td>\n",
       "      <td>Illegal Parking</td>\n",
       "      <td>Blocked Sidewalk</td>\n",
       "      <td>Street/Sidewalk</td>\n",
       "      <td>11373.0</td>\n",
       "      <td>87-14 57 ROAD</td>\n",
       "      <td>...</td>\n",
       "      <td>NaN</td>\n",
       "      <td>NaN</td>\n",
       "      <td>NaN</td>\n",
       "      <td>NaN</td>\n",
       "      <td>NaN</td>\n",
       "      <td>NaN</td>\n",
       "      <td>NaN</td>\n",
       "      <td>40.733060</td>\n",
       "      <td>-73.874170</td>\n",
       "      <td>(40.733059618956815, -73.87416975810375)</td>\n",
       "    </tr>\n",
       "  </tbody>\n",
       "</table>\n",
       "<p>5 rows × 53 columns</p>\n",
       "</div>"
      ],
      "text/plain": [
       "   Unique Key            Created Date    Closed Date Agency  \\\n",
       "0    32310363  12/31/2015 11:59:45 PM  01-01-16 0:55   NYPD   \n",
       "1    32309934  12/31/2015 11:59:44 PM  01-01-16 1:26   NYPD   \n",
       "2    32309159  12/31/2015 11:59:29 PM  01-01-16 4:51   NYPD   \n",
       "3    32305098  12/31/2015 11:57:46 PM  01-01-16 7:43   NYPD   \n",
       "4    32306529  12/31/2015 11:56:58 PM  01-01-16 3:24   NYPD   \n",
       "\n",
       "                       Agency Name           Complaint Type  \\\n",
       "0  New York City Police Department  Noise - Street/Sidewalk   \n",
       "1  New York City Police Department         Blocked Driveway   \n",
       "2  New York City Police Department         Blocked Driveway   \n",
       "3  New York City Police Department          Illegal Parking   \n",
       "4  New York City Police Department          Illegal Parking   \n",
       "\n",
       "                     Descriptor    Location Type  Incident Zip  \\\n",
       "0              Loud Music/Party  Street/Sidewalk       10034.0   \n",
       "1                     No Access  Street/Sidewalk       11105.0   \n",
       "2                     No Access  Street/Sidewalk       10458.0   \n",
       "3  Commercial Overnight Parking  Street/Sidewalk       10461.0   \n",
       "4              Blocked Sidewalk  Street/Sidewalk       11373.0   \n",
       "\n",
       "        Incident Address  ... Bridge Highway Name Bridge Highway Direction  \\\n",
       "0    71 VERMILYEA AVENUE  ...                 NaN                      NaN   \n",
       "1        27-07 23 AVENUE  ...                 NaN                      NaN   \n",
       "2  2897 VALENTINE AVENUE  ...                 NaN                      NaN   \n",
       "3    2940 BAISLEY AVENUE  ...                 NaN                      NaN   \n",
       "4          87-14 57 ROAD  ...                 NaN                      NaN   \n",
       "\n",
       "  Road Ramp Bridge Highway Segment Garage Lot Name Ferry Direction  \\\n",
       "0       NaN                    NaN             NaN             NaN   \n",
       "1       NaN                    NaN             NaN             NaN   \n",
       "2       NaN                    NaN             NaN             NaN   \n",
       "3       NaN                    NaN             NaN             NaN   \n",
       "4       NaN                    NaN             NaN             NaN   \n",
       "\n",
       "  Ferry Terminal Name   Latitude  Longitude  \\\n",
       "0                 NaN  40.865682 -73.923501   \n",
       "1                 NaN  40.775945 -73.915094   \n",
       "2                 NaN  40.870325 -73.888525   \n",
       "3                 NaN  40.835994 -73.828379   \n",
       "4                 NaN  40.733060 -73.874170   \n",
       "\n",
       "                                   Location  \n",
       "0   (40.86568153633767, -73.92350095571744)  \n",
       "1  (40.775945312321085, -73.91509393898605)  \n",
       "2  (40.870324522111424, -73.88852464418646)  \n",
       "3   (40.83599404683083, -73.82837939584206)  \n",
       "4  (40.733059618956815, -73.87416975810375)  \n",
       "\n",
       "[5 rows x 53 columns]"
      ]
     },
     "execution_count": 102,
     "metadata": {},
     "output_type": "execute_result"
    }
   ],
   "source": [
    "#checking the original data file information, shape and other details\n",
    "service311_original.head()"
   ]
  },
  {
   "cell_type": "code",
   "execution_count": 103,
   "id": "5e54ee51",
   "metadata": {},
   "outputs": [
    {
     "data": {
      "text/plain": [
       "(300698, 53)"
      ]
     },
     "execution_count": 103,
     "metadata": {},
     "output_type": "execute_result"
    }
   ],
   "source": [
    "service311_original.shape"
   ]
  },
  {
   "cell_type": "code",
   "execution_count": 104,
   "id": "f86d3c78",
   "metadata": {},
   "outputs": [
    {
     "data": {
      "text/plain": [
       "Index(['Unique Key', 'Created Date', 'Closed Date', 'Agency', 'Agency Name',\n",
       "       'Complaint Type', 'Descriptor', 'Location Type', 'Incident Zip',\n",
       "       'Incident Address', 'Street Name', 'Cross Street 1', 'Cross Street 2',\n",
       "       'Intersection Street 1', 'Intersection Street 2', 'Address Type',\n",
       "       'City', 'Landmark', 'Facility Type', 'Status', 'Due Date',\n",
       "       'Resolution Description', 'Resolution Action Updated Date',\n",
       "       'Community Board', 'Borough', 'X Coordinate (State Plane)',\n",
       "       'Y Coordinate (State Plane)', 'Park Facility Name', 'Park Borough',\n",
       "       'School Name', 'School Number', 'School Region', 'School Code',\n",
       "       'School Phone Number', 'School Address', 'School City', 'School State',\n",
       "       'School Zip', 'School Not Found', 'School or Citywide Complaint',\n",
       "       'Vehicle Type', 'Taxi Company Borough', 'Taxi Pick Up Location',\n",
       "       'Bridge Highway Name', 'Bridge Highway Direction', 'Road Ramp',\n",
       "       'Bridge Highway Segment', 'Garage Lot Name', 'Ferry Direction',\n",
       "       'Ferry Terminal Name', 'Latitude', 'Longitude', 'Location'],\n",
       "      dtype='object')"
      ]
     },
     "execution_count": 104,
     "metadata": {},
     "output_type": "execute_result"
    }
   ],
   "source": [
    "service311_original.columns"
   ]
  },
  {
   "cell_type": "code",
   "execution_count": 105,
   "id": "de5b1449",
   "metadata": {},
   "outputs": [
    {
     "name": "stdout",
     "output_type": "stream",
     "text": [
      "<class 'pandas.core.frame.DataFrame'>\n",
      "RangeIndex: 300698 entries, 0 to 300697\n",
      "Data columns (total 53 columns):\n",
      " #   Column                          Non-Null Count   Dtype  \n",
      "---  ------                          --------------   -----  \n",
      " 0   Unique Key                      300698 non-null  int64  \n",
      " 1   Created Date                    300698 non-null  object \n",
      " 2   Closed Date                     298534 non-null  object \n",
      " 3   Agency                          300698 non-null  object \n",
      " 4   Agency Name                     300698 non-null  object \n",
      " 5   Complaint Type                  300698 non-null  object \n",
      " 6   Descriptor                      294784 non-null  object \n",
      " 7   Location Type                   300567 non-null  object \n",
      " 8   Incident Zip                    298083 non-null  float64\n",
      " 9   Incident Address                256288 non-null  object \n",
      " 10  Street Name                     256288 non-null  object \n",
      " 11  Cross Street 1                  251419 non-null  object \n",
      " 12  Cross Street 2                  250919 non-null  object \n",
      " 13  Intersection Street 1           43858 non-null   object \n",
      " 14  Intersection Street 2           43362 non-null   object \n",
      " 15  Address Type                    297883 non-null  object \n",
      " 16  City                            298084 non-null  object \n",
      " 17  Landmark                        349 non-null     object \n",
      " 18  Facility Type                   298527 non-null  object \n",
      " 19  Status                          300698 non-null  object \n",
      " 20  Due Date                        300695 non-null  object \n",
      " 21  Resolution Description          300698 non-null  object \n",
      " 22  Resolution Action Updated Date  298511 non-null  object \n",
      " 23  Community Board                 300698 non-null  object \n",
      " 24  Borough                         300698 non-null  object \n",
      " 25  X Coordinate (State Plane)      297158 non-null  float64\n",
      " 26  Y Coordinate (State Plane)      297158 non-null  float64\n",
      " 27  Park Facility Name              300698 non-null  object \n",
      " 28  Park Borough                    300698 non-null  object \n",
      " 29  School Name                     300698 non-null  object \n",
      " 30  School Number                   300698 non-null  object \n",
      " 31  School Region                   300697 non-null  object \n",
      " 32  School Code                     300697 non-null  object \n",
      " 33  School Phone Number             300698 non-null  object \n",
      " 34  School Address                  300698 non-null  object \n",
      " 35  School City                     300698 non-null  object \n",
      " 36  School State                    300698 non-null  object \n",
      " 37  School Zip                      300697 non-null  object \n",
      " 38  School Not Found                300698 non-null  object \n",
      " 39  School or Citywide Complaint    0 non-null       float64\n",
      " 40  Vehicle Type                    0 non-null       float64\n",
      " 41  Taxi Company Borough            0 non-null       float64\n",
      " 42  Taxi Pick Up Location           0 non-null       float64\n",
      " 43  Bridge Highway Name             243 non-null     object \n",
      " 44  Bridge Highway Direction        243 non-null     object \n",
      " 45  Road Ramp                       213 non-null     object \n",
      " 46  Bridge Highway Segment          213 non-null     object \n",
      " 47  Garage Lot Name                 0 non-null       float64\n",
      " 48  Ferry Direction                 1 non-null       object \n",
      " 49  Ferry Terminal Name             2 non-null       object \n",
      " 50  Latitude                        297158 non-null  float64\n",
      " 51  Longitude                       297158 non-null  float64\n",
      " 52  Location                        297158 non-null  object \n",
      "dtypes: float64(10), int64(1), object(42)\n",
      "memory usage: 121.6+ MB\n"
     ]
    }
   ],
   "source": [
    "service311_original.info()"
   ]
  },
  {
   "cell_type": "code",
   "execution_count": 106,
   "id": "d9739293",
   "metadata": {},
   "outputs": [],
   "source": [
    "# creating the backup of the original file to perform analysis\n",
    "analysed_service311=service311_original"
   ]
  },
  {
   "cell_type": "code",
   "execution_count": 107,
   "id": "f24d8496",
   "metadata": {},
   "outputs": [
    {
     "data": {
      "text/html": [
       "<div>\n",
       "<style scoped>\n",
       "    .dataframe tbody tr th:only-of-type {\n",
       "        vertical-align: middle;\n",
       "    }\n",
       "\n",
       "    .dataframe tbody tr th {\n",
       "        vertical-align: top;\n",
       "    }\n",
       "\n",
       "    .dataframe thead th {\n",
       "        text-align: right;\n",
       "    }\n",
       "</style>\n",
       "<table border=\"1\" class=\"dataframe\">\n",
       "  <thead>\n",
       "    <tr style=\"text-align: right;\">\n",
       "      <th></th>\n",
       "      <th>Unique Key</th>\n",
       "      <th>Created Date</th>\n",
       "      <th>Closed Date</th>\n",
       "      <th>Agency</th>\n",
       "      <th>Agency Name</th>\n",
       "      <th>Complaint Type</th>\n",
       "      <th>Descriptor</th>\n",
       "      <th>Location Type</th>\n",
       "      <th>Incident Zip</th>\n",
       "      <th>Incident Address</th>\n",
       "      <th>...</th>\n",
       "      <th>Bridge Highway Name</th>\n",
       "      <th>Bridge Highway Direction</th>\n",
       "      <th>Road Ramp</th>\n",
       "      <th>Bridge Highway Segment</th>\n",
       "      <th>Garage Lot Name</th>\n",
       "      <th>Ferry Direction</th>\n",
       "      <th>Ferry Terminal Name</th>\n",
       "      <th>Latitude</th>\n",
       "      <th>Longitude</th>\n",
       "      <th>Location</th>\n",
       "    </tr>\n",
       "  </thead>\n",
       "  <tbody>\n",
       "    <tr>\n",
       "      <th>0</th>\n",
       "      <td>32310363</td>\n",
       "      <td>12/31/2015 11:59:45 PM</td>\n",
       "      <td>01-01-16 0:55</td>\n",
       "      <td>NYPD</td>\n",
       "      <td>New York City Police Department</td>\n",
       "      <td>Noise - Street/Sidewalk</td>\n",
       "      <td>Loud Music/Party</td>\n",
       "      <td>Street/Sidewalk</td>\n",
       "      <td>10034.0</td>\n",
       "      <td>71 VERMILYEA AVENUE</td>\n",
       "      <td>...</td>\n",
       "      <td>NaN</td>\n",
       "      <td>NaN</td>\n",
       "      <td>NaN</td>\n",
       "      <td>NaN</td>\n",
       "      <td>NaN</td>\n",
       "      <td>NaN</td>\n",
       "      <td>NaN</td>\n",
       "      <td>40.865682</td>\n",
       "      <td>-73.923501</td>\n",
       "      <td>(40.86568153633767, -73.92350095571744)</td>\n",
       "    </tr>\n",
       "    <tr>\n",
       "      <th>1</th>\n",
       "      <td>32309934</td>\n",
       "      <td>12/31/2015 11:59:44 PM</td>\n",
       "      <td>01-01-16 1:26</td>\n",
       "      <td>NYPD</td>\n",
       "      <td>New York City Police Department</td>\n",
       "      <td>Blocked Driveway</td>\n",
       "      <td>No Access</td>\n",
       "      <td>Street/Sidewalk</td>\n",
       "      <td>11105.0</td>\n",
       "      <td>27-07 23 AVENUE</td>\n",
       "      <td>...</td>\n",
       "      <td>NaN</td>\n",
       "      <td>NaN</td>\n",
       "      <td>NaN</td>\n",
       "      <td>NaN</td>\n",
       "      <td>NaN</td>\n",
       "      <td>NaN</td>\n",
       "      <td>NaN</td>\n",
       "      <td>40.775945</td>\n",
       "      <td>-73.915094</td>\n",
       "      <td>(40.775945312321085, -73.91509393898605)</td>\n",
       "    </tr>\n",
       "    <tr>\n",
       "      <th>2</th>\n",
       "      <td>32309159</td>\n",
       "      <td>12/31/2015 11:59:29 PM</td>\n",
       "      <td>01-01-16 4:51</td>\n",
       "      <td>NYPD</td>\n",
       "      <td>New York City Police Department</td>\n",
       "      <td>Blocked Driveway</td>\n",
       "      <td>No Access</td>\n",
       "      <td>Street/Sidewalk</td>\n",
       "      <td>10458.0</td>\n",
       "      <td>2897 VALENTINE AVENUE</td>\n",
       "      <td>...</td>\n",
       "      <td>NaN</td>\n",
       "      <td>NaN</td>\n",
       "      <td>NaN</td>\n",
       "      <td>NaN</td>\n",
       "      <td>NaN</td>\n",
       "      <td>NaN</td>\n",
       "      <td>NaN</td>\n",
       "      <td>40.870325</td>\n",
       "      <td>-73.888525</td>\n",
       "      <td>(40.870324522111424, -73.88852464418646)</td>\n",
       "    </tr>\n",
       "    <tr>\n",
       "      <th>3</th>\n",
       "      <td>32305098</td>\n",
       "      <td>12/31/2015 11:57:46 PM</td>\n",
       "      <td>01-01-16 7:43</td>\n",
       "      <td>NYPD</td>\n",
       "      <td>New York City Police Department</td>\n",
       "      <td>Illegal Parking</td>\n",
       "      <td>Commercial Overnight Parking</td>\n",
       "      <td>Street/Sidewalk</td>\n",
       "      <td>10461.0</td>\n",
       "      <td>2940 BAISLEY AVENUE</td>\n",
       "      <td>...</td>\n",
       "      <td>NaN</td>\n",
       "      <td>NaN</td>\n",
       "      <td>NaN</td>\n",
       "      <td>NaN</td>\n",
       "      <td>NaN</td>\n",
       "      <td>NaN</td>\n",
       "      <td>NaN</td>\n",
       "      <td>40.835994</td>\n",
       "      <td>-73.828379</td>\n",
       "      <td>(40.83599404683083, -73.82837939584206)</td>\n",
       "    </tr>\n",
       "    <tr>\n",
       "      <th>4</th>\n",
       "      <td>32306529</td>\n",
       "      <td>12/31/2015 11:56:58 PM</td>\n",
       "      <td>01-01-16 3:24</td>\n",
       "      <td>NYPD</td>\n",
       "      <td>New York City Police Department</td>\n",
       "      <td>Illegal Parking</td>\n",
       "      <td>Blocked Sidewalk</td>\n",
       "      <td>Street/Sidewalk</td>\n",
       "      <td>11373.0</td>\n",
       "      <td>87-14 57 ROAD</td>\n",
       "      <td>...</td>\n",
       "      <td>NaN</td>\n",
       "      <td>NaN</td>\n",
       "      <td>NaN</td>\n",
       "      <td>NaN</td>\n",
       "      <td>NaN</td>\n",
       "      <td>NaN</td>\n",
       "      <td>NaN</td>\n",
       "      <td>40.733060</td>\n",
       "      <td>-73.874170</td>\n",
       "      <td>(40.733059618956815, -73.87416975810375)</td>\n",
       "    </tr>\n",
       "  </tbody>\n",
       "</table>\n",
       "<p>5 rows × 53 columns</p>\n",
       "</div>"
      ],
      "text/plain": [
       "   Unique Key            Created Date    Closed Date Agency  \\\n",
       "0    32310363  12/31/2015 11:59:45 PM  01-01-16 0:55   NYPD   \n",
       "1    32309934  12/31/2015 11:59:44 PM  01-01-16 1:26   NYPD   \n",
       "2    32309159  12/31/2015 11:59:29 PM  01-01-16 4:51   NYPD   \n",
       "3    32305098  12/31/2015 11:57:46 PM  01-01-16 7:43   NYPD   \n",
       "4    32306529  12/31/2015 11:56:58 PM  01-01-16 3:24   NYPD   \n",
       "\n",
       "                       Agency Name           Complaint Type  \\\n",
       "0  New York City Police Department  Noise - Street/Sidewalk   \n",
       "1  New York City Police Department         Blocked Driveway   \n",
       "2  New York City Police Department         Blocked Driveway   \n",
       "3  New York City Police Department          Illegal Parking   \n",
       "4  New York City Police Department          Illegal Parking   \n",
       "\n",
       "                     Descriptor    Location Type  Incident Zip  \\\n",
       "0              Loud Music/Party  Street/Sidewalk       10034.0   \n",
       "1                     No Access  Street/Sidewalk       11105.0   \n",
       "2                     No Access  Street/Sidewalk       10458.0   \n",
       "3  Commercial Overnight Parking  Street/Sidewalk       10461.0   \n",
       "4              Blocked Sidewalk  Street/Sidewalk       11373.0   \n",
       "\n",
       "        Incident Address  ... Bridge Highway Name Bridge Highway Direction  \\\n",
       "0    71 VERMILYEA AVENUE  ...                 NaN                      NaN   \n",
       "1        27-07 23 AVENUE  ...                 NaN                      NaN   \n",
       "2  2897 VALENTINE AVENUE  ...                 NaN                      NaN   \n",
       "3    2940 BAISLEY AVENUE  ...                 NaN                      NaN   \n",
       "4          87-14 57 ROAD  ...                 NaN                      NaN   \n",
       "\n",
       "  Road Ramp Bridge Highway Segment Garage Lot Name Ferry Direction  \\\n",
       "0       NaN                    NaN             NaN             NaN   \n",
       "1       NaN                    NaN             NaN             NaN   \n",
       "2       NaN                    NaN             NaN             NaN   \n",
       "3       NaN                    NaN             NaN             NaN   \n",
       "4       NaN                    NaN             NaN             NaN   \n",
       "\n",
       "  Ferry Terminal Name   Latitude  Longitude  \\\n",
       "0                 NaN  40.865682 -73.923501   \n",
       "1                 NaN  40.775945 -73.915094   \n",
       "2                 NaN  40.870325 -73.888525   \n",
       "3                 NaN  40.835994 -73.828379   \n",
       "4                 NaN  40.733060 -73.874170   \n",
       "\n",
       "                                   Location  \n",
       "0   (40.86568153633767, -73.92350095571744)  \n",
       "1  (40.775945312321085, -73.91509393898605)  \n",
       "2  (40.870324522111424, -73.88852464418646)  \n",
       "3   (40.83599404683083, -73.82837939584206)  \n",
       "4  (40.733059618956815, -73.87416975810375)  \n",
       "\n",
       "[5 rows x 53 columns]"
      ]
     },
     "execution_count": 107,
     "metadata": {},
     "output_type": "execute_result"
    }
   ],
   "source": [
    "# checking the backup file's info to ensure the integrity of the data file\n",
    "analysed_service311.head()"
   ]
  },
  {
   "cell_type": "code",
   "execution_count": 108,
   "id": "c28fd290",
   "metadata": {},
   "outputs": [
    {
     "data": {
      "text/plain": [
       "(300698, 53)"
      ]
     },
     "execution_count": 108,
     "metadata": {},
     "output_type": "execute_result"
    }
   ],
   "source": [
    "analysed_service311.shape"
   ]
  },
  {
   "cell_type": "code",
   "execution_count": 109,
   "id": "dac12ee4",
   "metadata": {},
   "outputs": [
    {
     "name": "stdout",
     "output_type": "stream",
     "text": [
      "<class 'pandas.core.frame.DataFrame'>\n",
      "RangeIndex: 300698 entries, 0 to 300697\n",
      "Data columns (total 53 columns):\n",
      " #   Column                          Non-Null Count   Dtype  \n",
      "---  ------                          --------------   -----  \n",
      " 0   Unique Key                      300698 non-null  int64  \n",
      " 1   Created Date                    300698 non-null  object \n",
      " 2   Closed Date                     298534 non-null  object \n",
      " 3   Agency                          300698 non-null  object \n",
      " 4   Agency Name                     300698 non-null  object \n",
      " 5   Complaint Type                  300698 non-null  object \n",
      " 6   Descriptor                      294784 non-null  object \n",
      " 7   Location Type                   300567 non-null  object \n",
      " 8   Incident Zip                    298083 non-null  float64\n",
      " 9   Incident Address                256288 non-null  object \n",
      " 10  Street Name                     256288 non-null  object \n",
      " 11  Cross Street 1                  251419 non-null  object \n",
      " 12  Cross Street 2                  250919 non-null  object \n",
      " 13  Intersection Street 1           43858 non-null   object \n",
      " 14  Intersection Street 2           43362 non-null   object \n",
      " 15  Address Type                    297883 non-null  object \n",
      " 16  City                            298084 non-null  object \n",
      " 17  Landmark                        349 non-null     object \n",
      " 18  Facility Type                   298527 non-null  object \n",
      " 19  Status                          300698 non-null  object \n",
      " 20  Due Date                        300695 non-null  object \n",
      " 21  Resolution Description          300698 non-null  object \n",
      " 22  Resolution Action Updated Date  298511 non-null  object \n",
      " 23  Community Board                 300698 non-null  object \n",
      " 24  Borough                         300698 non-null  object \n",
      " 25  X Coordinate (State Plane)      297158 non-null  float64\n",
      " 26  Y Coordinate (State Plane)      297158 non-null  float64\n",
      " 27  Park Facility Name              300698 non-null  object \n",
      " 28  Park Borough                    300698 non-null  object \n",
      " 29  School Name                     300698 non-null  object \n",
      " 30  School Number                   300698 non-null  object \n",
      " 31  School Region                   300697 non-null  object \n",
      " 32  School Code                     300697 non-null  object \n",
      " 33  School Phone Number             300698 non-null  object \n",
      " 34  School Address                  300698 non-null  object \n",
      " 35  School City                     300698 non-null  object \n",
      " 36  School State                    300698 non-null  object \n",
      " 37  School Zip                      300697 non-null  object \n",
      " 38  School Not Found                300698 non-null  object \n",
      " 39  School or Citywide Complaint    0 non-null       float64\n",
      " 40  Vehicle Type                    0 non-null       float64\n",
      " 41  Taxi Company Borough            0 non-null       float64\n",
      " 42  Taxi Pick Up Location           0 non-null       float64\n",
      " 43  Bridge Highway Name             243 non-null     object \n",
      " 44  Bridge Highway Direction        243 non-null     object \n",
      " 45  Road Ramp                       213 non-null     object \n",
      " 46  Bridge Highway Segment          213 non-null     object \n",
      " 47  Garage Lot Name                 0 non-null       float64\n",
      " 48  Ferry Direction                 1 non-null       object \n",
      " 49  Ferry Terminal Name             2 non-null       object \n",
      " 50  Latitude                        297158 non-null  float64\n",
      " 51  Longitude                       297158 non-null  float64\n",
      " 52  Location                        297158 non-null  object \n",
      "dtypes: float64(10), int64(1), object(42)\n",
      "memory usage: 121.6+ MB\n"
     ]
    }
   ],
   "source": [
    "analysed_service311.info()"
   ]
  },
  {
   "cell_type": "markdown",
   "id": "717d7bed",
   "metadata": {},
   "source": [
    "*---Performing useful EDA on the data file ---*"
   ]
  },
  {
   "cell_type": "code",
   "execution_count": 110,
   "id": "d5aa7ced",
   "metadata": {},
   "outputs": [
    {
     "data": {
      "text/plain": [
       "Unique Key                             0\n",
       "Created Date                           0\n",
       "Closed Date                         2164\n",
       "Agency                                 0\n",
       "Agency Name                            0\n",
       "Complaint Type                         0\n",
       "Descriptor                          5914\n",
       "Location Type                        131\n",
       "Incident Zip                        2615\n",
       "Incident Address                   44410\n",
       "Street Name                        44410\n",
       "Cross Street 1                     49279\n",
       "Cross Street 2                     49779\n",
       "Intersection Street 1             256840\n",
       "Intersection Street 2             257336\n",
       "Address Type                        2815\n",
       "City                                2614\n",
       "Landmark                          300349\n",
       "Facility Type                       2171\n",
       "Status                                 0\n",
       "Due Date                               3\n",
       "Resolution Description                 0\n",
       "Resolution Action Updated Date      2187\n",
       "Community Board                        0\n",
       "Borough                                0\n",
       "X Coordinate (State Plane)          3540\n",
       "Y Coordinate (State Plane)          3540\n",
       "Park Facility Name                     0\n",
       "Park Borough                           0\n",
       "School Name                            0\n",
       "School Number                          0\n",
       "School Region                          1\n",
       "School Code                            1\n",
       "School Phone Number                    0\n",
       "School Address                         0\n",
       "School City                            0\n",
       "School State                           0\n",
       "School Zip                             1\n",
       "School Not Found                       0\n",
       "School or Citywide Complaint      300698\n",
       "Vehicle Type                      300698\n",
       "Taxi Company Borough              300698\n",
       "Taxi Pick Up Location             300698\n",
       "Bridge Highway Name               300455\n",
       "Bridge Highway Direction          300455\n",
       "Road Ramp                         300485\n",
       "Bridge Highway Segment            300485\n",
       "Garage Lot Name                   300698\n",
       "Ferry Direction                   300697\n",
       "Ferry Terminal Name               300696\n",
       "Latitude                            3540\n",
       "Longitude                           3540\n",
       "Location                            3540\n",
       "dtype: int64"
      ]
     },
     "execution_count": 110,
     "metadata": {},
     "output_type": "execute_result"
    }
   ],
   "source": [
    "# checking for the null values\n",
    "analysed_service311.isna().sum()"
   ]
  },
  {
   "cell_type": "code",
   "execution_count": 111,
   "id": "f7c6df60",
   "metadata": {},
   "outputs": [
    {
     "data": {
      "text/plain": [
       "2"
      ]
     },
     "execution_count": 111,
     "metadata": {},
     "output_type": "execute_result"
    }
   ],
   "source": [
    "# checking the dimension of the data file\n",
    "analysed_service311.ndim"
   ]
  },
  {
   "cell_type": "markdown",
   "id": "e495a1bb",
   "metadata": {},
   "source": [
    "*Since our data file is a 2-D data file or a DataFrame, we can use Heatmap to analyse the missing values easily as our data file have large number of columns available, so using graphical representation will be useful*"
   ]
  },
  {
   "cell_type": "code",
   "execution_count": 112,
   "id": "11539982",
   "metadata": {},
   "outputs": [
    {
     "data": {
      "image/png": "[encoded data removed]",
      "text/plain": [
       "<Figure size 720x432 with 2 Axes>"
      ]
     },
     "metadata": {
      "needs_background": "light"
     },
     "output_type": "display_data"
    }
   ],
   "source": [
    "# plotting a heatmap to check for the empty columns\n",
    "plt.figure(figsize=(10,6))\n",
    "sns.heatmap(analysed_service311.isna())\n",
    "plt.show()"
   ]
  },
  {
   "cell_type": "code",
   "execution_count": 113,
   "id": "b1f02ecc",
   "metadata": {},
   "outputs": [],
   "source": [
    "# Now, Cleaning the data and disregarding unwanted and empty columns of analaysed_service311\n",
    "\n",
    "clean_analysed_service311=analysed_service311[[\"Created Date\", \"Closed Date\", \"Agency Name\", \"Complaint Type\",\n",
    "       \"Descriptor\", \"Location Type\", \"Incident Zip\", \"Incident Address\",\n",
    "       \"Street Name\", \"Address Type\", \"City\", \"Status\", \"Due Date\",\n",
    "       \"Resolution Description\", \"Resolution Action Updated Date\",\n",
    "       \"Community Board\", \"Borough\", \"Park Borough\", \"Latitude\", \"Longitude\"]]"
   ]
  },
  {
   "cell_type": "code",
   "execution_count": 114,
   "id": "f9b33515",
   "metadata": {},
   "outputs": [
    {
     "data": {
      "text/plain": [
       "(300698, 20)"
      ]
     },
     "execution_count": 114,
     "metadata": {},
     "output_type": "execute_result"
    }
   ],
   "source": [
    "# checking the shape of the cleaned data\n",
    "clean_analysed_service311.shape"
   ]
  },
  {
   "cell_type": "code",
   "execution_count": 115,
   "id": "8e74a44e",
   "metadata": {},
   "outputs": [
    {
     "data": {
      "text/html": [
       "<div>\n",
       "<style scoped>\n",
       "    .dataframe tbody tr th:only-of-type {\n",
       "        vertical-align: middle;\n",
       "    }\n",
       "\n",
       "    .dataframe tbody tr th {\n",
       "        vertical-align: top;\n",
       "    }\n",
       "\n",
       "    .dataframe thead th {\n",
       "        text-align: right;\n",
       "    }\n",
       "</style>\n",
       "<table border=\"1\" class=\"dataframe\">\n",
       "  <thead>\n",
       "    <tr style=\"text-align: right;\">\n",
       "      <th></th>\n",
       "      <th>Created Date</th>\n",
       "      <th>Closed Date</th>\n",
       "      <th>Agency Name</th>\n",
       "      <th>Complaint Type</th>\n",
       "      <th>Descriptor</th>\n",
       "      <th>Location Type</th>\n",
       "      <th>Incident Zip</th>\n",
       "      <th>Incident Address</th>\n",
       "      <th>Street Name</th>\n",
       "      <th>Address Type</th>\n",
       "      <th>City</th>\n",
       "      <th>Status</th>\n",
       "      <th>Due Date</th>\n",
       "      <th>Resolution Description</th>\n",
       "      <th>Resolution Action Updated Date</th>\n",
       "      <th>Community Board</th>\n",
       "      <th>Borough</th>\n",
       "      <th>Park Borough</th>\n",
       "      <th>Latitude</th>\n",
       "      <th>Longitude</th>\n",
       "    </tr>\n",
       "  </thead>\n",
       "  <tbody>\n",
       "    <tr>\n",
       "      <th>0</th>\n",
       "      <td>12/31/2015 11:59:45 PM</td>\n",
       "      <td>01-01-16 0:55</td>\n",
       "      <td>New York City Police Department</td>\n",
       "      <td>Noise - Street/Sidewalk</td>\n",
       "      <td>Loud Music/Party</td>\n",
       "      <td>Street/Sidewalk</td>\n",
       "      <td>10034.0</td>\n",
       "      <td>71 VERMILYEA AVENUE</td>\n",
       "      <td>VERMILYEA AVENUE</td>\n",
       "      <td>ADDRESS</td>\n",
       "      <td>NEW YORK</td>\n",
       "      <td>Closed</td>\n",
       "      <td>01-01-16 7:59</td>\n",
       "      <td>The Police Department responded and upon arriv...</td>\n",
       "      <td>01-01-16 0:55</td>\n",
       "      <td>12 MANHATTAN</td>\n",
       "      <td>MANHATTAN</td>\n",
       "      <td>MANHATTAN</td>\n",
       "      <td>40.865682</td>\n",
       "      <td>-73.923501</td>\n",
       "    </tr>\n",
       "    <tr>\n",
       "      <th>1</th>\n",
       "      <td>12/31/2015 11:59:44 PM</td>\n",
       "      <td>01-01-16 1:26</td>\n",
       "      <td>New York City Police Department</td>\n",
       "      <td>Blocked Driveway</td>\n",
       "      <td>No Access</td>\n",
       "      <td>Street/Sidewalk</td>\n",
       "      <td>11105.0</td>\n",
       "      <td>27-07 23 AVENUE</td>\n",
       "      <td>23 AVENUE</td>\n",
       "      <td>ADDRESS</td>\n",
       "      <td>ASTORIA</td>\n",
       "      <td>Closed</td>\n",
       "      <td>01-01-16 7:59</td>\n",
       "      <td>The Police Department responded to the complai...</td>\n",
       "      <td>01-01-16 1:26</td>\n",
       "      <td>01 QUEENS</td>\n",
       "      <td>QUEENS</td>\n",
       "      <td>QUEENS</td>\n",
       "      <td>40.775945</td>\n",
       "      <td>-73.915094</td>\n",
       "    </tr>\n",
       "    <tr>\n",
       "      <th>2</th>\n",
       "      <td>12/31/2015 11:59:29 PM</td>\n",
       "      <td>01-01-16 4:51</td>\n",
       "      <td>New York City Police Department</td>\n",
       "      <td>Blocked Driveway</td>\n",
       "      <td>No Access</td>\n",
       "      <td>Street/Sidewalk</td>\n",
       "      <td>10458.0</td>\n",
       "      <td>2897 VALENTINE AVENUE</td>\n",
       "      <td>VALENTINE AVENUE</td>\n",
       "      <td>ADDRESS</td>\n",
       "      <td>BRONX</td>\n",
       "      <td>Closed</td>\n",
       "      <td>01-01-16 7:59</td>\n",
       "      <td>The Police Department responded and upon arriv...</td>\n",
       "      <td>01-01-16 4:51</td>\n",
       "      <td>07 BRONX</td>\n",
       "      <td>BRONX</td>\n",
       "      <td>BRONX</td>\n",
       "      <td>40.870325</td>\n",
       "      <td>-73.888525</td>\n",
       "    </tr>\n",
       "    <tr>\n",
       "      <th>3</th>\n",
       "      <td>12/31/2015 11:57:46 PM</td>\n",
       "      <td>01-01-16 7:43</td>\n",
       "      <td>New York City Police Department</td>\n",
       "      <td>Illegal Parking</td>\n",
       "      <td>Commercial Overnight Parking</td>\n",
       "      <td>Street/Sidewalk</td>\n",
       "      <td>10461.0</td>\n",
       "      <td>2940 BAISLEY AVENUE</td>\n",
       "      <td>BAISLEY AVENUE</td>\n",
       "      <td>ADDRESS</td>\n",
       "      <td>BRONX</td>\n",
       "      <td>Closed</td>\n",
       "      <td>01-01-16 7:57</td>\n",
       "      <td>The Police Department responded to the complai...</td>\n",
       "      <td>01-01-16 7:43</td>\n",
       "      <td>10 BRONX</td>\n",
       "      <td>BRONX</td>\n",
       "      <td>BRONX</td>\n",
       "      <td>40.835994</td>\n",
       "      <td>-73.828379</td>\n",
       "    </tr>\n",
       "    <tr>\n",
       "      <th>4</th>\n",
       "      <td>12/31/2015 11:56:58 PM</td>\n",
       "      <td>01-01-16 3:24</td>\n",
       "      <td>New York City Police Department</td>\n",
       "      <td>Illegal Parking</td>\n",
       "      <td>Blocked Sidewalk</td>\n",
       "      <td>Street/Sidewalk</td>\n",
       "      <td>11373.0</td>\n",
       "      <td>87-14 57 ROAD</td>\n",
       "      <td>57 ROAD</td>\n",
       "      <td>ADDRESS</td>\n",
       "      <td>ELMHURST</td>\n",
       "      <td>Closed</td>\n",
       "      <td>01-01-16 7:56</td>\n",
       "      <td>The Police Department responded and upon arriv...</td>\n",
       "      <td>01-01-16 3:24</td>\n",
       "      <td>04 QUEENS</td>\n",
       "      <td>QUEENS</td>\n",
       "      <td>QUEENS</td>\n",
       "      <td>40.733060</td>\n",
       "      <td>-73.874170</td>\n",
       "    </tr>\n",
       "  </tbody>\n",
       "</table>\n",
       "</div>"
      ],
      "text/plain": [
       "             Created Date    Closed Date                      Agency Name  \\\n",
       "0  12/31/2015 11:59:45 PM  01-01-16 0:55  New York City Police Department   \n",
       "1  12/31/2015 11:59:44 PM  01-01-16 1:26  New York City Police Department   \n",
       "2  12/31/2015 11:59:29 PM  01-01-16 4:51  New York City Police Department   \n",
       "3  12/31/2015 11:57:46 PM  01-01-16 7:43  New York City Police Department   \n",
       "4  12/31/2015 11:56:58 PM  01-01-16 3:24  New York City Police Department   \n",
       "\n",
       "            Complaint Type                    Descriptor    Location Type  \\\n",
       "0  Noise - Street/Sidewalk              Loud Music/Party  Street/Sidewalk   \n",
       "1         Blocked Driveway                     No Access  Street/Sidewalk   \n",
       "2         Blocked Driveway                     No Access  Street/Sidewalk   \n",
       "3          Illegal Parking  Commercial Overnight Parking  Street/Sidewalk   \n",
       "4          Illegal Parking              Blocked Sidewalk  Street/Sidewalk   \n",
       "\n",
       "   Incident Zip       Incident Address       Street Name Address Type  \\\n",
       "0       10034.0    71 VERMILYEA AVENUE  VERMILYEA AVENUE      ADDRESS   \n",
       "1       11105.0        27-07 23 AVENUE         23 AVENUE      ADDRESS   \n",
       "2       10458.0  2897 VALENTINE AVENUE  VALENTINE AVENUE      ADDRESS   \n",
       "3       10461.0    2940 BAISLEY AVENUE    BAISLEY AVENUE      ADDRESS   \n",
       "4       11373.0          87-14 57 ROAD           57 ROAD      ADDRESS   \n",
       "\n",
       "       City  Status       Due Date  \\\n",
       "0  NEW YORK  Closed  01-01-16 7:59   \n",
       "1   ASTORIA  Closed  01-01-16 7:59   \n",
       "2     BRONX  Closed  01-01-16 7:59   \n",
       "3     BRONX  Closed  01-01-16 7:57   \n",
       "4  ELMHURST  Closed  01-01-16 7:56   \n",
       "\n",
       "                              Resolution Description  \\\n",
       "0  The Police Department responded and upon arriv...   \n",
       "1  The Police Department responded to the complai...   \n",
       "2  The Police Department responded and upon arriv...   \n",
       "3  The Police Department responded to the complai...   \n",
       "4  The Police Department responded and upon arriv...   \n",
       "\n",
       "  Resolution Action Updated Date Community Board    Borough Park Borough  \\\n",
       "0                  01-01-16 0:55    12 MANHATTAN  MANHATTAN    MANHATTAN   \n",
       "1                  01-01-16 1:26       01 QUEENS     QUEENS       QUEENS   \n",
       "2                  01-01-16 4:51        07 BRONX      BRONX        BRONX   \n",
       "3                  01-01-16 7:43        10 BRONX      BRONX        BRONX   \n",
       "4                  01-01-16 3:24       04 QUEENS     QUEENS       QUEENS   \n",
       "\n",
       "    Latitude  Longitude  \n",
       "0  40.865682 -73.923501  \n",
       "1  40.775945 -73.915094  \n",
       "2  40.870325 -73.888525  \n",
       "3  40.835994 -73.828379  \n",
       "4  40.733060 -73.874170  "
      ]
     },
     "execution_count": 115,
     "metadata": {},
     "output_type": "execute_result"
    }
   ],
   "source": [
    "clean_analysed_service311.head()"
   ]
  },
  {
   "cell_type": "code",
   "execution_count": 116,
   "id": "8984dbbe",
   "metadata": {},
   "outputs": [
    {
     "name": "stdout",
     "output_type": "stream",
     "text": [
      "<class 'pandas.core.frame.DataFrame'>\n",
      "RangeIndex: 300698 entries, 0 to 300697\n",
      "Data columns (total 20 columns):\n",
      " #   Column                          Non-Null Count   Dtype  \n",
      "---  ------                          --------------   -----  \n",
      " 0   Created Date                    300698 non-null  object \n",
      " 1   Closed Date                     298534 non-null  object \n",
      " 2   Agency Name                     300698 non-null  object \n",
      " 3   Complaint Type                  300698 non-null  object \n",
      " 4   Descriptor                      294784 non-null  object \n",
      " 5   Location Type                   300567 non-null  object \n",
      " 6   Incident Zip                    298083 non-null  float64\n",
      " 7   Incident Address                256288 non-null  object \n",
      " 8   Street Name                     256288 non-null  object \n",
      " 9   Address Type                    297883 non-null  object \n",
      " 10  City                            298084 non-null  object \n",
      " 11  Status                          300698 non-null  object \n",
      " 12  Due Date                        300695 non-null  object \n",
      " 13  Resolution Description          300698 non-null  object \n",
      " 14  Resolution Action Updated Date  298511 non-null  object \n",
      " 15  Community Board                 300698 non-null  object \n",
      " 16  Borough                         300698 non-null  object \n",
      " 17  Park Borough                    300698 non-null  object \n",
      " 18  Latitude                        297158 non-null  float64\n",
      " 19  Longitude                       297158 non-null  float64\n",
      "dtypes: float64(3), object(17)\n",
      "memory usage: 45.9+ MB\n"
     ]
    }
   ],
   "source": [
    "# checking the integrity of the cleaned data\n",
    "clean_analysed_service311.info()"
   ]
  },
  {
   "cell_type": "code",
   "execution_count": 117,
   "id": "ff15b6ad",
   "metadata": {},
   "outputs": [
    {
     "data": {
      "text/plain": [
       "2"
      ]
     },
     "execution_count": 117,
     "metadata": {},
     "output_type": "execute_result"
    }
   ],
   "source": [
    "#checking the dimension of the cleaned data\n",
    "clean_analysed_service311.ndim"
   ]
  },
  {
   "cell_type": "code",
   "execution_count": 118,
   "id": "d826ab49",
   "metadata": {},
   "outputs": [
    {
     "data": {
      "text/plain": [
       "Created Date                          0\n",
       "Closed Date                        2164\n",
       "Agency Name                           0\n",
       "Complaint Type                        0\n",
       "Descriptor                         5914\n",
       "Location Type                       131\n",
       "Incident Zip                       2615\n",
       "Incident Address                  44410\n",
       "Street Name                       44410\n",
       "Address Type                       2815\n",
       "City                               2614\n",
       "Status                                0\n",
       "Due Date                              3\n",
       "Resolution Description                0\n",
       "Resolution Action Updated Date     2187\n",
       "Community Board                       0\n",
       "Borough                               0\n",
       "Park Borough                          0\n",
       "Latitude                           3540\n",
       "Longitude                          3540\n",
       "dtype: int64"
      ]
     },
     "execution_count": 118,
     "metadata": {},
     "output_type": "execute_result"
    }
   ],
   "source": [
    "# checking for the null values in the cleaned data\n",
    "clean_analysed_service311.isna().sum()"
   ]
  },
  {
   "cell_type": "markdown",
   "id": "9c4fc792",
   "metadata": {},
   "source": [
    "# Task 2\n",
    "**2. Read or convert the columns ‘Created Date’ and Closed Date’ to datetime datatype and create a new column ‘Request_Closing_Time’ as the time elapsed between request creation and request closing. (Hint: Explore the package/module datetime)**"
   ]
  },
  {
   "cell_type": "code",
   "execution_count": 119,
   "id": "7b139a8e",
   "metadata": {},
   "outputs": [
    {
     "name": "stderr",
     "output_type": "stream",
     "text": [
      "<ipython-input-119-453db5f099a3>:2: SettingWithCopyWarning: \n",
      "A value is trying to be set on a copy of a slice from a DataFrame.\n",
      "Try using .loc[row_indexer,col_indexer] = value instead\n",
      "\n",
      "See the caveats in the documentation: https://pandas.pydata.org/pandas-docs/stable/user_guide/indexing.html#returning-a-view-versus-a-copy\n",
      "  clean_analysed_service311[\"Created Date\"] = pd.to_datetime(clean_analysed_service311[\"Created Date\"])\n",
      "<ipython-input-119-453db5f099a3>:3: SettingWithCopyWarning: \n",
      "A value is trying to be set on a copy of a slice from a DataFrame.\n",
      "Try using .loc[row_indexer,col_indexer] = value instead\n",
      "\n",
      "See the caveats in the documentation: https://pandas.pydata.org/pandas-docs/stable/user_guide/indexing.html#returning-a-view-versus-a-copy\n",
      "  clean_analysed_service311[\"Closed Date\"] = pd.to_datetime(clean_analysed_service311[\"Closed Date\"])\n"
     ]
    }
   ],
   "source": [
    "# converting the existing columns of 'Created Date' and 'Closed Date' into Datetime object type\n",
    "clean_analysed_service311[\"Created Date\"] = pd.to_datetime(clean_analysed_service311[\"Created Date\"])\n",
    "clean_analysed_service311[\"Closed Date\"] = pd.to_datetime(clean_analysed_service311[\"Closed Date\"])"
   ]
  },
  {
   "cell_type": "code",
   "execution_count": 120,
   "id": "7dbb75b5",
   "metadata": {},
   "outputs": [
    {
     "name": "stdout",
     "output_type": "stream",
     "text": [
      "<class 'pandas.core.frame.DataFrame'>\n",
      "RangeIndex: 300698 entries, 0 to 300697\n",
      "Data columns (total 20 columns):\n",
      " #   Column                          Non-Null Count   Dtype         \n",
      "---  ------                          --------------   -----         \n",
      " 0   Created Date                    300698 non-null  datetime64[ns]\n",
      " 1   Closed Date                     298534 non-null  datetime64[ns]\n",
      " 2   Agency Name                     300698 non-null  object        \n",
      " 3   Complaint Type                  300698 non-null  object        \n",
      " 4   Descriptor                      294784 non-null  object        \n",
      " 5   Location Type                   300567 non-null  object        \n",
      " 6   Incident Zip                    298083 non-null  float64       \n",
      " 7   Incident Address                256288 non-null  object        \n",
      " 8   Street Name                     256288 non-null  object        \n",
      " 9   Address Type                    297883 non-null  object        \n",
      " 10  City                            298084 non-null  object        \n",
      " 11  Status                          300698 non-null  object        \n",
      " 12  Due Date                        300695 non-null  object        \n",
      " 13  Resolution Description          300698 non-null  object        \n",
      " 14  Resolution Action Updated Date  298511 non-null  object        \n",
      " 15  Community Board                 300698 non-null  object        \n",
      " 16  Borough                         300698 non-null  object        \n",
      " 17  Park Borough                    300698 non-null  object        \n",
      " 18  Latitude                        297158 non-null  float64       \n",
      " 19  Longitude                       297158 non-null  float64       \n",
      "dtypes: datetime64[ns](2), float64(3), object(15)\n",
      "memory usage: 45.9+ MB\n"
     ]
    }
   ],
   "source": [
    "# verifying the changes occur or not\n",
    "clean_analysed_service311.info()"
   ]
  },
  {
   "cell_type": "code",
   "execution_count": 121,
   "id": "7b3de4f3",
   "metadata": {},
   "outputs": [
    {
     "data": {
      "text/plain": [
       "0   2015-12-31 23:59:45\n",
       "1   2015-12-31 23:59:44\n",
       "2   2015-12-31 23:59:29\n",
       "3   2015-12-31 23:57:46\n",
       "4   2015-12-31 23:56:58\n",
       "Name: Created Date, dtype: datetime64[ns]"
      ]
     },
     "execution_count": 121,
     "metadata": {},
     "output_type": "execute_result"
    }
   ],
   "source": [
    "# checking the first 5 values of the newly converted columns\n",
    "clean_analysed_service311[\"Created Date\"].head()"
   ]
  },
  {
   "cell_type": "code",
   "execution_count": 122,
   "id": "8c493075",
   "metadata": {},
   "outputs": [
    {
     "data": {
      "text/plain": [
       "0        2016-01-01 00:55:00\n",
       "1        2016-01-01 01:26:00\n",
       "2        2016-01-01 04:51:00\n",
       "3        2016-01-01 07:43:00\n",
       "4        2016-01-01 03:24:00\n",
       "                 ...        \n",
       "300693                   NaT\n",
       "300694   2015-03-29 02:33:59\n",
       "300695   2015-03-29 03:40:20\n",
       "300696   2015-03-29 04:38:35\n",
       "300697   2015-03-29 04:41:50\n",
       "Name: Closed Date, Length: 300698, dtype: datetime64[ns]"
      ]
     },
     "execution_count": 122,
     "metadata": {},
     "output_type": "execute_result"
    }
   ],
   "source": [
    "clean_analysed_service311[\"Closed Date\"]"
   ]
  },
  {
   "cell_type": "code",
   "execution_count": 123,
   "id": "f78c30cc",
   "metadata": {},
   "outputs": [
    {
     "name": "stderr",
     "output_type": "stream",
     "text": [
      "<ipython-input-123-03ddfa86ae4b>:2: SettingWithCopyWarning: \n",
      "A value is trying to be set on a copy of a slice from a DataFrame.\n",
      "Try using .loc[row_indexer,col_indexer] = value instead\n",
      "\n",
      "See the caveats in the documentation: https://pandas.pydata.org/pandas-docs/stable/user_guide/indexing.html#returning-a-view-versus-a-copy\n",
      "  clean_analysed_service311[\"Request_Closing_Time\"] = clean_analysed_service311[\"Closed Date\"]-clean_analysed_service311[\"Created Date\"]\n"
     ]
    }
   ],
   "source": [
    "# creating a new column 'Request_Closing_Time' which holds the entries of the time taken in closing of the complaints\n",
    "clean_analysed_service311[\"Request_Closing_Time\"] = clean_analysed_service311[\"Closed Date\"]-clean_analysed_service311[\"Created Date\"] "
   ]
  },
  {
   "cell_type": "code",
   "execution_count": 124,
   "id": "5bb9d95e",
   "metadata": {},
   "outputs": [
    {
     "data": {
      "text/plain": [
       "Index(['Created Date', 'Closed Date', 'Agency Name', 'Complaint Type',\n",
       "       'Descriptor', 'Location Type', 'Incident Zip', 'Incident Address',\n",
       "       'Street Name', 'Address Type', 'City', 'Status', 'Due Date',\n",
       "       'Resolution Description', 'Resolution Action Updated Date',\n",
       "       'Community Board', 'Borough', 'Park Borough', 'Latitude', 'Longitude',\n",
       "       'Request_Closing_Time'],\n",
       "      dtype='object')"
      ]
     },
     "execution_count": 124,
     "metadata": {},
     "output_type": "execute_result"
    }
   ],
   "source": [
    "# checking if the new column is added or not\n",
    "clean_analysed_service311.columns"
   ]
  },
  {
   "cell_type": "code",
   "execution_count": 125,
   "id": "7588e9af",
   "metadata": {},
   "outputs": [
    {
     "name": "stdout",
     "output_type": "stream",
     "text": [
      "<class 'pandas.core.frame.DataFrame'>\n",
      "RangeIndex: 300698 entries, 0 to 300697\n",
      "Data columns (total 21 columns):\n",
      " #   Column                          Non-Null Count   Dtype          \n",
      "---  ------                          --------------   -----          \n",
      " 0   Created Date                    300698 non-null  datetime64[ns] \n",
      " 1   Closed Date                     298534 non-null  datetime64[ns] \n",
      " 2   Agency Name                     300698 non-null  object         \n",
      " 3   Complaint Type                  300698 non-null  object         \n",
      " 4   Descriptor                      294784 non-null  object         \n",
      " 5   Location Type                   300567 non-null  object         \n",
      " 6   Incident Zip                    298083 non-null  float64        \n",
      " 7   Incident Address                256288 non-null  object         \n",
      " 8   Street Name                     256288 non-null  object         \n",
      " 9   Address Type                    297883 non-null  object         \n",
      " 10  City                            298084 non-null  object         \n",
      " 11  Status                          300698 non-null  object         \n",
      " 12  Due Date                        300695 non-null  object         \n",
      " 13  Resolution Description          300698 non-null  object         \n",
      " 14  Resolution Action Updated Date  298511 non-null  object         \n",
      " 15  Community Board                 300698 non-null  object         \n",
      " 16  Borough                         300698 non-null  object         \n",
      " 17  Park Borough                    300698 non-null  object         \n",
      " 18  Latitude                        297158 non-null  float64        \n",
      " 19  Longitude                       297158 non-null  float64        \n",
      " 20  Request_Closing_Time            298534 non-null  timedelta64[ns]\n",
      "dtypes: datetime64[ns](2), float64(3), object(15), timedelta64[ns](1)\n",
      "memory usage: 48.2+ MB\n"
     ]
    }
   ],
   "source": [
    "# checking the datatype of the newly created column\n",
    "clean_analysed_service311.info()"
   ]
  },
  {
   "cell_type": "code",
   "execution_count": 126,
   "id": "ce2c12fc",
   "metadata": {},
   "outputs": [
    {
     "data": {
      "text/plain": [
       "0   0 days 00:55:15\n",
       "1   0 days 01:26:16\n",
       "2   0 days 04:51:31\n",
       "3   0 days 07:45:14\n",
       "4   0 days 03:27:02\n",
       "Name: Request_Closing_Time, dtype: timedelta64[ns]"
      ]
     },
     "execution_count": 126,
     "metadata": {},
     "output_type": "execute_result"
    }
   ],
   "source": [
    "# viewing the first 5 values of the newly created column\n",
    "clean_analysed_service311[\"Request_Closing_Time\"].head()"
   ]
  },
  {
   "cell_type": "code",
   "execution_count": 127,
   "id": "66d806b3",
   "metadata": {},
   "outputs": [
    {
     "name": "stderr",
     "output_type": "stream",
     "text": [
      "<ipython-input-127-a141af6c3c91>:2: SettingWithCopyWarning: \n",
      "A value is trying to be set on a copy of a slice from a DataFrame.\n",
      "Try using .loc[row_indexer,col_indexer] = value instead\n",
      "\n",
      "See the caveats in the documentation: https://pandas.pydata.org/pandas-docs/stable/user_guide/indexing.html#returning-a-view-versus-a-copy\n",
      "  clean_analysed_service311[\"Created_Hour\"] = clean_analysed_service311[\"Created Date\"].apply(lambda x:x.hour)\n"
     ]
    }
   ],
   "source": [
    "# creating another column of Created hour of the complaints for further analysis\n",
    "clean_analysed_service311[\"Created_Hour\"] = clean_analysed_service311[\"Created Date\"].apply(lambda x:x.hour)"
   ]
  },
  {
   "cell_type": "code",
   "execution_count": 128,
   "id": "fa8e8b15",
   "metadata": {},
   "outputs": [
    {
     "name": "stderr",
     "output_type": "stream",
     "text": [
      "<ipython-input-128-a1f0aa493c22>:2: SettingWithCopyWarning: \n",
      "A value is trying to be set on a copy of a slice from a DataFrame.\n",
      "Try using .loc[row_indexer,col_indexer] = value instead\n",
      "\n",
      "See the caveats in the documentation: https://pandas.pydata.org/pandas-docs/stable/user_guide/indexing.html#returning-a-view-versus-a-copy\n",
      "  clean_analysed_service311[\"Closed_Hour\"] = clean_analysed_service311[\"Closed Date\"].apply(lambda x:x.hour)\n"
     ]
    }
   ],
   "source": [
    "# creating another column of Closed hour of the complaints for further analysis\n",
    "clean_analysed_service311[\"Closed_Hour\"] = clean_analysed_service311[\"Closed Date\"].apply(lambda x:x.hour)"
   ]
  },
  {
   "cell_type": "code",
   "execution_count": 129,
   "id": "fe54ea1c",
   "metadata": {},
   "outputs": [
    {
     "name": "stderr",
     "output_type": "stream",
     "text": [
      "<ipython-input-129-ca08c1669973>:2: SettingWithCopyWarning: \n",
      "A value is trying to be set on a copy of a slice from a DataFrame.\n",
      "Try using .loc[row_indexer,col_indexer] = value instead\n",
      "\n",
      "See the caveats in the documentation: https://pandas.pydata.org/pandas-docs/stable/user_guide/indexing.html#returning-a-view-versus-a-copy\n",
      "  clean_analysed_service311[\"Request_Closing_Time_Hour\"] = clean_analysed_service311[\"Request_Closing_Time\"].apply(lambda x:x/np.timedelta64(1, 'h'))\n"
     ]
    }
   ],
   "source": [
    "# creating a column to analyse How many hours were required to close a complaint\n",
    "clean_analysed_service311[\"Request_Closing_Time_Hour\"] = clean_analysed_service311[\"Request_Closing_Time\"].apply(lambda x:x/np.timedelta64(1, 'h'))"
   ]
  },
  {
   "cell_type": "code",
   "execution_count": 130,
   "id": "9cd6d2bb",
   "metadata": {},
   "outputs": [
    {
     "name": "stdout",
     "output_type": "stream",
     "text": [
      "<class 'pandas.core.frame.DataFrame'>\n",
      "RangeIndex: 300698 entries, 0 to 300697\n",
      "Data columns (total 24 columns):\n",
      " #   Column                          Non-Null Count   Dtype          \n",
      "---  ------                          --------------   -----          \n",
      " 0   Created Date                    300698 non-null  datetime64[ns] \n",
      " 1   Closed Date                     298534 non-null  datetime64[ns] \n",
      " 2   Agency Name                     300698 non-null  object         \n",
      " 3   Complaint Type                  300698 non-null  object         \n",
      " 4   Descriptor                      294784 non-null  object         \n",
      " 5   Location Type                   300567 non-null  object         \n",
      " 6   Incident Zip                    298083 non-null  float64        \n",
      " 7   Incident Address                256288 non-null  object         \n",
      " 8   Street Name                     256288 non-null  object         \n",
      " 9   Address Type                    297883 non-null  object         \n",
      " 10  City                            298084 non-null  object         \n",
      " 11  Status                          300698 non-null  object         \n",
      " 12  Due Date                        300695 non-null  object         \n",
      " 13  Resolution Description          300698 non-null  object         \n",
      " 14  Resolution Action Updated Date  298511 non-null  object         \n",
      " 15  Community Board                 300698 non-null  object         \n",
      " 16  Borough                         300698 non-null  object         \n",
      " 17  Park Borough                    300698 non-null  object         \n",
      " 18  Latitude                        297158 non-null  float64        \n",
      " 19  Longitude                       297158 non-null  float64        \n",
      " 20  Request_Closing_Time            298534 non-null  timedelta64[ns]\n",
      " 21  Created_Hour                    300698 non-null  int64          \n",
      " 22  Closed_Hour                     298534 non-null  float64        \n",
      " 23  Request_Closing_Time_Hour       298534 non-null  float64        \n",
      "dtypes: datetime64[ns](2), float64(5), int64(1), object(15), timedelta64[ns](1)\n",
      "memory usage: 55.1+ MB\n"
     ]
    }
   ],
   "source": [
    "# Checking if the changes made occur or not\n",
    "clean_analysed_service311.info()"
   ]
  },
  {
   "cell_type": "code",
   "execution_count": 131,
   "id": "214d141f",
   "metadata": {},
   "outputs": [
    {
     "data": {
      "text/plain": [
       "Index(['Created Date', 'Closed Date', 'Agency Name', 'Complaint Type',\n",
       "       'Descriptor', 'Location Type', 'Incident Zip', 'Incident Address',\n",
       "       'Street Name', 'Address Type', 'City', 'Status', 'Due Date',\n",
       "       'Resolution Description', 'Resolution Action Updated Date',\n",
       "       'Community Board', 'Borough', 'Park Borough', 'Latitude', 'Longitude',\n",
       "       'Request_Closing_Time', 'Created_Hour', 'Closed_Hour',\n",
       "       'Request_Closing_Time_Hour'],\n",
       "      dtype='object')"
      ]
     },
     "execution_count": 131,
     "metadata": {},
     "output_type": "execute_result"
    }
   ],
   "source": [
    "#Checking all the Columns to make sure that all the new columns were added\n",
    "clean_analysed_service311.columns"
   ]
  },
  {
   "cell_type": "markdown",
   "id": "b0659790",
   "metadata": {},
   "source": [
    "# Task 3\n",
    "**3. Provide major insights/patterns that you can offer in a visual format (graphs or tables); at least 4 major conclusions that you can come up with after generic data mining.**"
   ]
  },
  {
   "cell_type": "code",
   "execution_count": 132,
   "id": "74264070",
   "metadata": {},
   "outputs": [
    {
     "data": {
      "text/plain": [
       "array(['Noise - Street/Sidewalk', 'Blocked Driveway', 'Illegal Parking',\n",
       "       'Derelict Vehicle', 'Noise - Commercial',\n",
       "       'Noise - House of Worship', 'Posting Advertisement',\n",
       "       'Noise - Vehicle', 'Animal Abuse', 'Vending', 'Traffic',\n",
       "       'Drinking', 'Bike/Roller/Skate Chronic', 'Panhandling',\n",
       "       'Noise - Park', 'Homeless Encampment', 'Urinating in Public',\n",
       "       'Graffiti', 'Disorderly Youth', 'Illegal Fireworks',\n",
       "       'Ferry Complaint', 'Agency Issues', 'Squeegee', 'Animal in a Park'],\n",
       "      dtype=object)"
      ]
     },
     "execution_count": 132,
     "metadata": {},
     "output_type": "execute_result"
    }
   ],
   "source": [
    "# checking the different categories of the 'Complaint Type'\n",
    "clean_analysed_service311[\"Complaint Type\"].unique()"
   ]
  },
  {
   "cell_type": "code",
   "execution_count": 133,
   "id": "35c02ecf",
   "metadata": {},
   "outputs": [
    {
     "data": {
      "text/plain": [
       "array(['Loud Music/Party', 'No Access', 'Commercial Overnight Parking',\n",
       "       'Blocked Sidewalk', 'Posted Parking Sign Violation',\n",
       "       'Blocked Hydrant', 'With License Plate', 'Partial Access',\n",
       "       'Unauthorized Bus Layover', 'Double Parked Blocking Vehicle',\n",
       "       'Double Parked Blocking Traffic', 'Vehicle', 'Loud Talking',\n",
       "       'Banging/Pounding', 'Car/Truck Music', 'Tortured',\n",
       "       'In Prohibited Area', 'Congestion/Gridlock', 'Neglected',\n",
       "       'Car/Truck Horn', 'In Public', 'Other (complaint details)', nan,\n",
       "       'No Shelter', 'Truck Route Violation', 'Unlicensed',\n",
       "       'Overnight Commercial Storage', 'Engine Idling',\n",
       "       'After Hours - Licensed Est', 'Detached Trailer',\n",
       "       'Underage - Licensed Est', 'Chronic Stoplight Violation',\n",
       "       'Loud Television', 'Chained', 'Building', 'In Car',\n",
       "       'Police Report Requested', 'Chronic Speeding',\n",
       "       'Playing in Unsuitable Place', 'Drag Racing',\n",
       "       'Police Report Not Requested', 'Nuisance/Truant', 'Homeless Issue',\n",
       "       'Language Access Complaint', 'Disruptive Passenger',\n",
       "       'Animal Waste'], dtype=object)"
      ]
     },
     "execution_count": 133,
     "metadata": {},
     "output_type": "execute_result"
    }
   ],
   "source": [
    "# checking the different categories of the 'Descriptor'\n",
    "clean_analysed_service311[\"Descriptor\"].unique()"
   ]
  },
  {
   "cell_type": "code",
   "execution_count": 134,
   "id": "89826711",
   "metadata": {},
   "outputs": [
    {
     "data": {
      "text/html": [
       "<div>\n",
       "<style scoped>\n",
       "    .dataframe tbody tr th:only-of-type {\n",
       "        vertical-align: middle;\n",
       "    }\n",
       "\n",
       "    .dataframe tbody tr th {\n",
       "        vertical-align: top;\n",
       "    }\n",
       "\n",
       "    .dataframe thead th {\n",
       "        text-align: right;\n",
       "    }\n",
       "</style>\n",
       "<table border=\"1\" class=\"dataframe\">\n",
       "  <thead>\n",
       "    <tr style=\"text-align: right;\">\n",
       "      <th></th>\n",
       "      <th>Complaint Type</th>\n",
       "      <th>City</th>\n",
       "      <th>count</th>\n",
       "    </tr>\n",
       "  </thead>\n",
       "  <tbody>\n",
       "    <tr>\n",
       "      <th>0</th>\n",
       "      <td>Animal Abuse</td>\n",
       "      <td>ARVERNE</td>\n",
       "      <td>38</td>\n",
       "    </tr>\n",
       "    <tr>\n",
       "      <th>1</th>\n",
       "      <td>Animal Abuse</td>\n",
       "      <td>ASTORIA</td>\n",
       "      <td>125</td>\n",
       "    </tr>\n",
       "    <tr>\n",
       "      <th>2</th>\n",
       "      <td>Animal Abuse</td>\n",
       "      <td>BAYSIDE</td>\n",
       "      <td>37</td>\n",
       "    </tr>\n",
       "    <tr>\n",
       "      <th>3</th>\n",
       "      <td>Animal Abuse</td>\n",
       "      <td>BELLEROSE</td>\n",
       "      <td>7</td>\n",
       "    </tr>\n",
       "    <tr>\n",
       "      <th>4</th>\n",
       "      <td>Animal Abuse</td>\n",
       "      <td>BREEZY POINT</td>\n",
       "      <td>2</td>\n",
       "    </tr>\n",
       "    <tr>\n",
       "      <th>...</th>\n",
       "      <td>...</td>\n",
       "      <td>...</td>\n",
       "      <td>...</td>\n",
       "    </tr>\n",
       "    <tr>\n",
       "      <th>759</th>\n",
       "      <td>Vending</td>\n",
       "      <td>STATEN ISLAND</td>\n",
       "      <td>25</td>\n",
       "    </tr>\n",
       "    <tr>\n",
       "      <th>760</th>\n",
       "      <td>Vending</td>\n",
       "      <td>SUNNYSIDE</td>\n",
       "      <td>15</td>\n",
       "    </tr>\n",
       "    <tr>\n",
       "      <th>761</th>\n",
       "      <td>Vending</td>\n",
       "      <td>WHITESTONE</td>\n",
       "      <td>1</td>\n",
       "    </tr>\n",
       "    <tr>\n",
       "      <th>762</th>\n",
       "      <td>Vending</td>\n",
       "      <td>WOODHAVEN</td>\n",
       "      <td>6</td>\n",
       "    </tr>\n",
       "    <tr>\n",
       "      <th>763</th>\n",
       "      <td>Vending</td>\n",
       "      <td>WOODSIDE</td>\n",
       "      <td>15</td>\n",
       "    </tr>\n",
       "  </tbody>\n",
       "</table>\n",
       "<p>764 rows × 3 columns</p>\n",
       "</div>"
      ],
      "text/plain": [
       "    Complaint Type           City  count\n",
       "0     Animal Abuse        ARVERNE     38\n",
       "1     Animal Abuse        ASTORIA    125\n",
       "2     Animal Abuse        BAYSIDE     37\n",
       "3     Animal Abuse      BELLEROSE      7\n",
       "4     Animal Abuse   BREEZY POINT      2\n",
       "..             ...            ...    ...\n",
       "759        Vending  STATEN ISLAND     25\n",
       "760        Vending      SUNNYSIDE     15\n",
       "761        Vending     WHITESTONE      1\n",
       "762        Vending      WOODHAVEN      6\n",
       "763        Vending       WOODSIDE     15\n",
       "\n",
       "[764 rows x 3 columns]"
      ]
     },
     "execution_count": 134,
     "metadata": {},
     "output_type": "execute_result"
    }
   ],
   "source": [
    "# grouping the total complaints of different types of complaints according to cities\n",
    "complaintTypecity = pd.DataFrame({'count':\n",
    "                                  clean_analysed_service311.groupby([\"Complaint Type\",\"City\"]).size()}).reset_index()\n",
    "complaintTypecity"
   ]
  },
  {
   "cell_type": "code",
   "execution_count": 135,
   "id": "7fd0b1b8",
   "metadata": {},
   "outputs": [
    {
     "data": {
      "text/plain": [
       "Borough      Complaint Type         Descriptor               \n",
       "BRONX        Animal Abuse           Chained                      132\n",
       "                                    In Car                        36\n",
       "                                    Neglected                    673\n",
       "                                    No Shelter                    71\n",
       "                                    Other (complaint details)    311\n",
       "                                                                ... \n",
       "Unspecified  Noise - Vehicle        Engine Idling                 11\n",
       "             Posting Advertisement  Vehicle                        1\n",
       "             Traffic                Truck Route Violation          1\n",
       "             Vending                In Prohibited Area             2\n",
       "                                    Unlicensed                     5\n",
       "Length: 288, dtype: int64"
      ]
     },
     "execution_count": 135,
     "metadata": {},
     "output_type": "execute_result"
    }
   ],
   "source": [
    "# grouping total no. of Complaint types according to 'Borough', 'Descriptor'\n",
    "clean_analysed_service311.groupby(['Borough','Complaint Type','Descriptor']).size()"
   ]
  },
  {
   "cell_type": "code",
   "execution_count": 136,
   "id": "7a0ecf93",
   "metadata": {},
   "outputs": [
    {
     "data": {
      "image/png": "[encoded data removed]",
      "text/plain": [
       "<Figure size 360x360 with 1 Axes>"
      ]
     },
     "metadata": {
      "needs_background": "light"
     },
     "output_type": "display_data"
    }
   ],
   "source": [
    "#Complaint type Breakdown with bar plot to figure out majority of complaint types and top 10 complaints\n",
    "clean_analysed_service311[\"Complaint Type\"].value_counts().head(10).plot(kind='barh',figsize=(5,5));"
   ]
  },
  {
   "cell_type": "markdown",
   "id": "f21f4561",
   "metadata": {},
   "source": [
    "*From the above Graphical Representation, we can give **2-Major Insights**---*\n",
    " **1) 'Blocked Driveway'** is the most frequent Complaint among all **'Complaint Types'** and **2) 'Noise-Park'** is the Least, and what else are the top 10 complaint types*"
   ]
  },
  {
   "cell_type": "code",
   "execution_count": 137,
   "id": "e23d022a",
   "metadata": {},
   "outputs": [
    {
     "data": {
      "text/html": [
       "<div>\n",
       "<style scoped>\n",
       "    .dataframe tbody tr th:only-of-type {\n",
       "        vertical-align: middle;\n",
       "    }\n",
       "\n",
       "    .dataframe tbody tr th {\n",
       "        vertical-align: top;\n",
       "    }\n",
       "\n",
       "    .dataframe thead th {\n",
       "        text-align: right;\n",
       "    }\n",
       "</style>\n",
       "<table border=\"1\" class=\"dataframe\">\n",
       "  <thead>\n",
       "    <tr style=\"text-align: right;\">\n",
       "      <th></th>\n",
       "      <th>Complaint Type</th>\n",
       "      <th>count</th>\n",
       "    </tr>\n",
       "  </thead>\n",
       "  <tbody>\n",
       "    <tr>\n",
       "      <th>0</th>\n",
       "      <td>Blocked Driveway</td>\n",
       "      <td>77044</td>\n",
       "    </tr>\n",
       "    <tr>\n",
       "      <th>1</th>\n",
       "      <td>Illegal Parking</td>\n",
       "      <td>75361</td>\n",
       "    </tr>\n",
       "    <tr>\n",
       "      <th>2</th>\n",
       "      <td>Noise - Street/Sidewalk</td>\n",
       "      <td>48612</td>\n",
       "    </tr>\n",
       "    <tr>\n",
       "      <th>3</th>\n",
       "      <td>Noise - Commercial</td>\n",
       "      <td>35577</td>\n",
       "    </tr>\n",
       "    <tr>\n",
       "      <th>4</th>\n",
       "      <td>Derelict Vehicle</td>\n",
       "      <td>17718</td>\n",
       "    </tr>\n",
       "    <tr>\n",
       "      <th>5</th>\n",
       "      <td>Noise - Vehicle</td>\n",
       "      <td>17083</td>\n",
       "    </tr>\n",
       "    <tr>\n",
       "      <th>6</th>\n",
       "      <td>Animal Abuse</td>\n",
       "      <td>7778</td>\n",
       "    </tr>\n",
       "    <tr>\n",
       "      <th>7</th>\n",
       "      <td>Traffic</td>\n",
       "      <td>4498</td>\n",
       "    </tr>\n",
       "    <tr>\n",
       "      <th>8</th>\n",
       "      <td>Homeless Encampment</td>\n",
       "      <td>4416</td>\n",
       "    </tr>\n",
       "    <tr>\n",
       "      <th>9</th>\n",
       "      <td>Noise - Park</td>\n",
       "      <td>4042</td>\n",
       "    </tr>\n",
       "  </tbody>\n",
       "</table>\n",
       "</div>"
      ],
      "text/plain": [
       "            Complaint Type  count\n",
       "0         Blocked Driveway  77044\n",
       "1          Illegal Parking  75361\n",
       "2  Noise - Street/Sidewalk  48612\n",
       "3       Noise - Commercial  35577\n",
       "4         Derelict Vehicle  17718\n",
       "5          Noise - Vehicle  17083\n",
       "6             Animal Abuse   7778\n",
       "7                  Traffic   4498\n",
       "8      Homeless Encampment   4416\n",
       "9             Noise - Park   4042"
      ]
     },
     "execution_count": 137,
     "metadata": {},
     "output_type": "execute_result"
    }
   ],
   "source": [
    "# Removing all the Null Values from the 'Complaint Type' Column and storing it in a different variable\n",
    "majorcomplints=clean_analysed_service311.dropna(subset=[\"Complaint Type\"])\n",
    "\n",
    "# Grouping Non-Null 'Complaint Type'\n",
    "majorcomplints=clean_analysed_service311.groupby(\"Complaint Type\")\n",
    "\n",
    "# Sorting the grouped 'Complaint Type' on the number of 'Complaints' in Descending Order by using the 'size()' before using 'sort_values()'\n",
    "sortedComplaintType = majorcomplints.size().sort_values(ascending = False)\n",
    "\n",
    "# Updating the sorted variable to display the 'count' of all the 'Complaint Type'\n",
    "sortedComplaintType = sortedComplaintType.to_frame('count').reset_index()\n",
    "\n",
    "# Printing the top 10 'Complaint Types'\n",
    "sortedComplaintType.head(10)"
   ]
  },
  {
   "cell_type": "markdown",
   "id": "36bb2d54",
   "metadata": {},
   "source": [
    "*By executing abvove code we can verify that our graphical representation of top 10 complaints was correct*"
   ]
  },
  {
   "cell_type": "markdown",
   "id": "92c7d045",
   "metadata": {},
   "source": [
    "**3rd Insight -- which 'Complaint Types' have how much contribution in the top 5 Complaint Types**"
   ]
  },
  {
   "cell_type": "code",
   "execution_count": 138,
   "id": "4b539435",
   "metadata": {},
   "outputs": [
    {
     "data": {
      "image/png": "[encoded data removed]",
      "text/plain": [
       "<Figure size 360x360 with 1 Axes>"
      ]
     },
     "metadata": {},
     "output_type": "display_data"
    }
   ],
   "source": [
    "# figuring out which 'Complaint Type' has how much of the contribution of top 5 complaints\n",
    "sortedComplaintType = sortedComplaintType.head()\n",
    "plt.figure(figsize=(5,5))\n",
    "plt.pie(sortedComplaintType['count'],labels=sortedComplaintType[\"Complaint Type\"], autopct=\"%1.1f%%\")\n",
    "plt.show()"
   ]
  },
  {
   "cell_type": "code",
   "execution_count": 139,
   "id": "e14419c4",
   "metadata": {},
   "outputs": [
    {
     "data": {
      "text/plain": [
       "<AxesSubplot:ylabel='City'>"
      ]
     },
     "execution_count": 139,
     "metadata": {},
     "output_type": "execute_result"
    },
    {
     "data": {
      "image/png": "[encoded data removed]",
      "text/plain": [
       "<Figure size 360x360 with 1 Axes>"
      ]
     },
     "metadata": {
      "needs_background": "light"
     },
     "output_type": "display_data"
    }
   ],
   "source": [
    "# Plotting the top 10 cities with most number of Complaints\n",
    "\n",
    "\n",
    "# Below there are two different methods used to print the bar plot but since I used the first kind above, I decided to print the barplot using different method by using 'groupby' to plot the bar plot this time\n",
    "\n",
    "# clean_analysed_service311[\"City\"].value_counts().head(10).plot(kind='barh',figsize=(5,5)) --->> This code also works and gives the same result\n",
    "clean_analysed_service311.groupby([\"City\"]).size().sort_values(ascending=False).head(10).plot(kind='barh',figsize=(5,5))"
   ]
  },
  {
   "cell_type": "markdown",
   "id": "0a92767f",
   "metadata": {},
   "source": [
    "**Major Insight 3, Most Unsafe city is - \"BROOKLYN\"**"
   ]
  },
  {
   "cell_type": "code",
   "execution_count": 140,
   "id": "664cc82d",
   "metadata": {},
   "outputs": [
    {
     "name": "stderr",
     "output_type": "stream",
     "text": [
      "C:\\Users\\amita\\anaconda3\\lib\\site-packages\\seaborn\\_decorators.py:36: FutureWarning: Pass the following variable as a keyword arg: x. From version 0.12, the only valid positional argument will be `data`, and passing other arguments without an explicit keyword will result in an error or misinterpretation.\n",
      "  warnings.warn(\n"
     ]
    },
    {
     "data": {
      "image/png": "[encoded data removed]",
      "text/plain": [
       "<Figure size 1080x360 with 1 Axes>"
      ]
     },
     "metadata": {
      "needs_background": "light"
     },
     "output_type": "display_data"
    }
   ],
   "source": [
    "# plotting a graph to identify in which Hour the most no. of Complaints were Recoreded.\n",
    "plt.figure(figsize=(15,5))\n",
    "sns.countplot(clean_analysed_service311[\"Created_Hour\"])\n",
    "plt.show()"
   ]
  },
  {
   "cell_type": "markdown",
   "id": "b88ea209",
   "metadata": {},
   "source": [
    "**Major Insight 4, 23hrs(11 PM) is the most Unsafest Hour**"
   ]
  },
  {
   "cell_type": "code",
   "execution_count": 141,
   "id": "5223d9cb",
   "metadata": {},
   "outputs": [
    {
     "data": {
      "text/plain": [
       "<AxesSubplot:>"
      ]
     },
     "execution_count": 141,
     "metadata": {},
     "output_type": "execute_result"
    },
    {
     "data": {
      "image/png": "[encoded data removed]",
      "text/plain": [
       "<Figure size 360x360 with 1 Axes>"
      ]
     },
     "metadata": {
      "needs_background": "light"
     },
     "output_type": "display_data"
    }
   ],
   "source": [
    "# Plotting a bar plot to see the top 5 Location type that have been reported the most\n",
    "clean_analysed_service311[\"Location Type\"].value_counts().head().plot(kind='barh',figsize=(5,5))"
   ]
  },
  {
   "cell_type": "markdown",
   "id": "ce984d70",
   "metadata": {},
   "source": [
    "**Major Insight 5, Most of the Complaints are for the Street/Sidewalk. Therefore, Street/Sidewalk is the most Dangerous among all the Location Types**"
   ]
  },
  {
   "cell_type": "code",
   "execution_count": 142,
   "id": "5bffe6eb",
   "metadata": {},
   "outputs": [
    {
     "data": {
      "text/plain": [
       "<AxesSubplot:>"
      ]
     },
     "execution_count": 142,
     "metadata": {},
     "output_type": "execute_result"
    },
    {
     "data": {
      "image/png": "[encoded data removed]",
      "text/plain": [
       "<Figure size 360x360 with 1 Axes>"
      ]
     },
     "metadata": {
      "needs_background": "light"
     },
     "output_type": "display_data"
    }
   ],
   "source": [
    "# plotting a Bar Plot to check which borough has most Complaints\n",
    "clean_analysed_service311[\"Borough\"].value_counts().plot(kind='barh',figsize=(5,5))"
   ]
  },
  {
   "cell_type": "markdown",
   "id": "74f9a98b",
   "metadata": {},
   "source": [
    "**Major Insight 6, Most of the Complaints are from the 'BROOKLYN' Borough. Therefore, 'BROOKLYN' is the most Dangerous among all the Boroughs**"
   ]
  },
  {
   "cell_type": "code",
   "execution_count": 143,
   "id": "d86b956d",
   "metadata": {},
   "outputs": [
    {
     "name": "stderr",
     "output_type": "stream",
     "text": [
      "C:\\Users\\amita\\anaconda3\\lib\\site-packages\\seaborn\\_decorators.py:36: FutureWarning: Pass the following variable as a keyword arg: x. From version 0.12, the only valid positional argument will be `data`, and passing other arguments without an explicit keyword will result in an error or misinterpretation.\n",
      "  warnings.warn(\n"
     ]
    },
    {
     "data": {
      "image/png": "[encoded data removed]",
      "text/plain": [
       "<Figure size 1008x720 with 1 Axes>"
      ]
     },
     "metadata": {
      "needs_background": "light"
     },
     "output_type": "display_data"
    }
   ],
   "source": [
    "# Plotting a CountPlot to see the frequency of different 'Complaint Type' based on 'Borough'\n",
    "\n",
    "plt.figure(figsize=(14,10))\n",
    "sns.countplot(\"Borough\",data=clean_analysed_service311,hue=\"Complaint Type\")\n",
    "plt.show()"
   ]
  },
  {
   "cell_type": "markdown",
   "id": "0aa91c31",
   "metadata": {},
   "source": [
    "**Major Insight 7, MANHATTAN have the least Blocked Driveway Problem among the top 4 Boroughs(MANHATTAN,QUEENS,BRONX and BROOKLYN) in Complaints.**"
   ]
  },
  {
   "cell_type": "markdown",
   "id": "c35911d5",
   "metadata": {},
   "source": [
    "# Task 4\n",
    "\n",
    "**4. Order the complaint types based on the average ‘Request_Closing_Time’, grouping them for different locations.**"
   ]
  },
  {
   "cell_type": "code",
   "execution_count": 144,
   "id": "2e0d91e7",
   "metadata": {},
   "outputs": [],
   "source": [
    "# Grouping by 'Complaint Type' and 'Location Type'\n",
    "Ordered_Complaints_Types=clean_analysed_service311.groupby([\"Complaint Type\",\"Location Type\"])"
   ]
  },
  {
   "cell_type": "code",
   "execution_count": 145,
   "id": "c4bde822",
   "metadata": {},
   "outputs": [
    {
     "data": {
      "text/plain": [
       "Complaint Type       Location Type             \n",
       "Animal Abuse         Commercial                    5.342769\n",
       "                     House and Store               5.013262\n",
       "                     Park/Playground               3.702493\n",
       "                     Parking Lot                   5.540399\n",
       "                     Residential Building          4.818166\n",
       "                                                     ...   \n",
       "Urinating in Public  Subway Station                1.152130\n",
       "Vending              Park/Playground               3.467124\n",
       "                     Residential Building/House    4.197084\n",
       "                     Store/Commercial              3.973838\n",
       "                     Street/Sidewalk               4.026692\n",
       "Name: Request_Closing_Time_Hour, Length: 71, dtype: float64"
      ]
     },
     "execution_count": 145,
     "metadata": {},
     "output_type": "execute_result"
    }
   ],
   "source": [
    "# Ordering the 'Complaint Type' based on average 'Request_Closing_Time' based on 'Location Type'\n",
    "Ordered_Complaints_Types['Request_Closing_Time_Hour'].mean()"
   ]
  },
  {
   "cell_type": "markdown",
   "id": "9d6ea661",
   "metadata": {},
   "source": [
    "# Task 5\n",
    "**Perform a statistical test for the following:**\n",
    "\n",
    "**a) Whether the average response time across complaint types is similar or not (overall)**\n",
    "\n",
    "**b) Are the type of complaint or service requested and location related?**"
   ]
  },
  {
   "cell_type": "code",
   "execution_count": null,
   "id": "7f5fec99",
   "metadata": {},
   "outputs": [],
   "source": []
  },
  {
   "cell_type": "markdown",
   "id": "0a52a53d",
   "metadata": {},
   "source": [
    "**a) Whether the average response time across complaint types is similar or not (overall)**"
   ]
  },
  {
   "cell_type": "markdown",
   "id": "059c6ede",
   "metadata": {},
   "source": [
    "*H0: Avg response time is same across complaint types*\n",
    "\n",
    "*H1: Avg response time is not same across complaint types*"
   ]
  },
  {
   "cell_type": "code",
   "execution_count": 146,
   "id": "04770104",
   "metadata": {},
   "outputs": [
    {
     "data": {
      "text/plain": [
       "Created Date                          0\n",
       "Closed Date                        2164\n",
       "Agency Name                           0\n",
       "Complaint Type                        0\n",
       "Descriptor                         5914\n",
       "Location Type                       131\n",
       "Incident Zip                       2615\n",
       "Incident Address                  44410\n",
       "Street Name                       44410\n",
       "Address Type                       2815\n",
       "City                               2614\n",
       "Status                                0\n",
       "Due Date                              3\n",
       "Resolution Description                0\n",
       "Resolution Action Updated Date     2187\n",
       "Community Board                       0\n",
       "Borough                               0\n",
       "Park Borough                          0\n",
       "Latitude                           3540\n",
       "Longitude                          3540\n",
       "Request_Closing_Time               2164\n",
       "Created_Hour                          0\n",
       "Closed_Hour                        2164\n",
       "Request_Closing_Time_Hour          2164\n",
       "dtype: int64"
      ]
     },
     "execution_count": 146,
     "metadata": {},
     "output_type": "execute_result"
    }
   ],
   "source": [
    "# checking for the null values\n",
    "clean_analysed_service311.isna().sum()"
   ]
  },
  {
   "cell_type": "code",
   "execution_count": 147,
   "id": "8e62d8e7",
   "metadata": {},
   "outputs": [],
   "source": [
    "# Dropping the null values in the 'Location Type' column, as the Column 'Complaint Type' does not have any null values\n",
    "clean_analysed_service311=clean_analysed_service311.dropna(subset=[\"Location Type\"])"
   ]
  },
  {
   "cell_type": "code",
   "execution_count": 148,
   "id": "f6cdd10c",
   "metadata": {},
   "outputs": [],
   "source": [
    "# Dropping the null values in the 'Request_Closing_Time_Hour' column\n",
    "clean_analysed_service311=clean_analysed_service311.dropna(subset=[\"Request_Closing_Time_Hour\"])"
   ]
  },
  {
   "cell_type": "code",
   "execution_count": 149,
   "id": "a52167f6",
   "metadata": {},
   "outputs": [
    {
     "data": {
      "text/plain": [
       "Created Date                          0\n",
       "Closed Date                           0\n",
       "Agency Name                           0\n",
       "Complaint Type                        0\n",
       "Descriptor                         5899\n",
       "Location Type                         0\n",
       "Incident Zip                        501\n",
       "Incident Address                  44371\n",
       "Street Name                       44371\n",
       "Address Type                        701\n",
       "City                                500\n",
       "Status                                0\n",
       "Due Date                              0\n",
       "Resolution Description                0\n",
       "Resolution Action Updated Date        2\n",
       "Community Board                       0\n",
       "Borough                               0\n",
       "Park Borough                          0\n",
       "Latitude                           1426\n",
       "Longitude                          1426\n",
       "Request_Closing_Time                  0\n",
       "Created_Hour                          0\n",
       "Closed_Hour                           0\n",
       "Request_Closing_Time_Hour             0\n",
       "dtype: int64"
      ]
     },
     "execution_count": 149,
     "metadata": {},
     "output_type": "execute_result"
    }
   ],
   "source": [
    "#  Checking for the null values again\n",
    "clean_analysed_service311.isna().sum()"
   ]
  },
  {
   "cell_type": "code",
   "execution_count": 150,
   "id": "5edd9bac",
   "metadata": {},
   "outputs": [
    {
     "data": {
      "text/plain": [
       "Blocked Driveway           76773\n",
       "Illegal Parking            74497\n",
       "Noise - Street/Sidewalk    48067\n",
       "Noise - Commercial         35242\n",
       "Derelict Vehicle           17580\n",
       "Name: Complaint Type, dtype: int64"
      ]
     },
     "execution_count": 150,
     "metadata": {},
     "output_type": "execute_result"
    }
   ],
   "source": [
    "# Checking the top 5 Complaints\n",
    "clean_analysed_service311[\"Complaint Type\"].value_counts().head()"
   ]
  },
  {
   "cell_type": "code",
   "execution_count": 151,
   "id": "3999933e",
   "metadata": {},
   "outputs": [
    {
     "data": {
      "text/html": [
       "<div>\n",
       "<style scoped>\n",
       "    .dataframe tbody tr th:only-of-type {\n",
       "        vertical-align: middle;\n",
       "    }\n",
       "\n",
       "    .dataframe tbody tr th {\n",
       "        vertical-align: top;\n",
       "    }\n",
       "\n",
       "    .dataframe thead th {\n",
       "        text-align: right;\n",
       "    }\n",
       "</style>\n",
       "<table border=\"1\" class=\"dataframe\">\n",
       "  <thead>\n",
       "    <tr style=\"text-align: right;\">\n",
       "      <th></th>\n",
       "      <th>Request_Closing_Time_Hour</th>\n",
       "    </tr>\n",
       "  </thead>\n",
       "  <tbody>\n",
       "    <tr>\n",
       "      <th>1</th>\n",
       "      <td>1.437778</td>\n",
       "    </tr>\n",
       "    <tr>\n",
       "      <th>2</th>\n",
       "      <td>4.858611</td>\n",
       "    </tr>\n",
       "    <tr>\n",
       "      <th>7</th>\n",
       "      <td>1.798611</td>\n",
       "    </tr>\n",
       "    <tr>\n",
       "      <th>9</th>\n",
       "      <td>1.383889</td>\n",
       "    </tr>\n",
       "    <tr>\n",
       "      <th>10</th>\n",
       "      <td>7.800556</td>\n",
       "    </tr>\n",
       "    <tr>\n",
       "      <th>...</th>\n",
       "      <td>...</td>\n",
       "    </tr>\n",
       "    <tr>\n",
       "      <th>300665</th>\n",
       "      <td>1.213056</td>\n",
       "    </tr>\n",
       "    <tr>\n",
       "      <th>300672</th>\n",
       "      <td>15.707222</td>\n",
       "    </tr>\n",
       "    <tr>\n",
       "      <th>300679</th>\n",
       "      <td>1.208333</td>\n",
       "    </tr>\n",
       "    <tr>\n",
       "      <th>300687</th>\n",
       "      <td>2.248056</td>\n",
       "    </tr>\n",
       "    <tr>\n",
       "      <th>300694</th>\n",
       "      <td>2.008611</td>\n",
       "    </tr>\n",
       "  </tbody>\n",
       "</table>\n",
       "<p>76773 rows × 1 columns</p>\n",
       "</div>"
      ],
      "text/plain": [
       "        Request_Closing_Time_Hour\n",
       "1                        1.437778\n",
       "2                        4.858611\n",
       "7                        1.798611\n",
       "9                        1.383889\n",
       "10                       7.800556\n",
       "...                           ...\n",
       "300665                   1.213056\n",
       "300672                  15.707222\n",
       "300679                   1.208333\n",
       "300687                   2.248056\n",
       "300694                   2.008611\n",
       "\n",
       "[76773 rows x 1 columns]"
      ]
     },
     "execution_count": 151,
     "metadata": {},
     "output_type": "execute_result"
    }
   ],
   "source": [
    "# Grouping the top 5 Complaints along with it's 'Request_Closing_Time' using 'loc' method\n",
    "Blocked_Driveway_loc=clean_analysed_service311.loc[ clean_analysed_service311[\"Complaint Type\"]==\"Blocked Driveway\", [\"Request_Closing_Time_Hour\"] ]\n",
    "Blocked_Driveway_loc"
   ]
  },
  {
   "cell_type": "code",
   "execution_count": 152,
   "id": "e9c4dda2",
   "metadata": {},
   "outputs": [
    {
     "data": {
      "text/html": [
       "<div>\n",
       "<style scoped>\n",
       "    .dataframe tbody tr th:only-of-type {\n",
       "        vertical-align: middle;\n",
       "    }\n",
       "\n",
       "    .dataframe tbody tr th {\n",
       "        vertical-align: top;\n",
       "    }\n",
       "\n",
       "    .dataframe thead th {\n",
       "        text-align: right;\n",
       "    }\n",
       "</style>\n",
       "<table border=\"1\" class=\"dataframe\">\n",
       "  <thead>\n",
       "    <tr style=\"text-align: right;\">\n",
       "      <th></th>\n",
       "      <th>Request_Closing_Time_Hour</th>\n",
       "    </tr>\n",
       "  </thead>\n",
       "  <tbody>\n",
       "    <tr>\n",
       "      <th>3</th>\n",
       "      <td>7.753889</td>\n",
       "    </tr>\n",
       "    <tr>\n",
       "      <th>4</th>\n",
       "      <td>3.450556</td>\n",
       "    </tr>\n",
       "    <tr>\n",
       "      <th>5</th>\n",
       "      <td>1.891667</td>\n",
       "    </tr>\n",
       "    <tr>\n",
       "      <th>6</th>\n",
       "      <td>1.957778</td>\n",
       "    </tr>\n",
       "    <tr>\n",
       "      <th>8</th>\n",
       "      <td>8.550556</td>\n",
       "    </tr>\n",
       "    <tr>\n",
       "      <th>...</th>\n",
       "      <td>...</td>\n",
       "    </tr>\n",
       "    <tr>\n",
       "      <th>300643</th>\n",
       "      <td>2.937778</td>\n",
       "    </tr>\n",
       "    <tr>\n",
       "      <th>300658</th>\n",
       "      <td>1.376111</td>\n",
       "    </tr>\n",
       "    <tr>\n",
       "      <th>300670</th>\n",
       "      <td>8.424167</td>\n",
       "    </tr>\n",
       "    <tr>\n",
       "      <th>300671</th>\n",
       "      <td>3.765000</td>\n",
       "    </tr>\n",
       "    <tr>\n",
       "      <th>300690</th>\n",
       "      <td>8.100278</td>\n",
       "    </tr>\n",
       "  </tbody>\n",
       "</table>\n",
       "<p>74497 rows × 1 columns</p>\n",
       "</div>"
      ],
      "text/plain": [
       "        Request_Closing_Time_Hour\n",
       "3                        7.753889\n",
       "4                        3.450556\n",
       "5                        1.891667\n",
       "6                        1.957778\n",
       "8                        8.550556\n",
       "...                           ...\n",
       "300643                   2.937778\n",
       "300658                   1.376111\n",
       "300670                   8.424167\n",
       "300671                   3.765000\n",
       "300690                   8.100278\n",
       "\n",
       "[74497 rows x 1 columns]"
      ]
     },
     "execution_count": 152,
     "metadata": {},
     "output_type": "execute_result"
    }
   ],
   "source": [
    "Illegal_Parking_loc=clean_analysed_service311.loc[ clean_analysed_service311[\"Complaint Type\"]==\"Illegal Parking\", [\"Request_Closing_Time_Hour\"] ]\n",
    "Illegal_Parking_loc"
   ]
  },
  {
   "cell_type": "code",
   "execution_count": 153,
   "id": "b6577527",
   "metadata": {},
   "outputs": [
    {
     "data": {
      "text/html": [
       "<div>\n",
       "<style scoped>\n",
       "    .dataframe tbody tr th:only-of-type {\n",
       "        vertical-align: middle;\n",
       "    }\n",
       "\n",
       "    .dataframe tbody tr th {\n",
       "        vertical-align: top;\n",
       "    }\n",
       "\n",
       "    .dataframe thead th {\n",
       "        text-align: right;\n",
       "    }\n",
       "</style>\n",
       "<table border=\"1\" class=\"dataframe\">\n",
       "  <thead>\n",
       "    <tr style=\"text-align: right;\">\n",
       "      <th></th>\n",
       "      <th>Request_Closing_Time_Hour</th>\n",
       "    </tr>\n",
       "  </thead>\n",
       "  <tbody>\n",
       "    <tr>\n",
       "      <th>0</th>\n",
       "      <td>0.920833</td>\n",
       "    </tr>\n",
       "    <tr>\n",
       "      <th>12</th>\n",
       "      <td>2.482500</td>\n",
       "    </tr>\n",
       "    <tr>\n",
       "      <th>19</th>\n",
       "      <td>0.784722</td>\n",
       "    </tr>\n",
       "    <tr>\n",
       "      <th>38</th>\n",
       "      <td>0.491111</td>\n",
       "    </tr>\n",
       "    <tr>\n",
       "      <th>54</th>\n",
       "      <td>1.495556</td>\n",
       "    </tr>\n",
       "    <tr>\n",
       "      <th>...</th>\n",
       "      <td>...</td>\n",
       "    </tr>\n",
       "    <tr>\n",
       "      <th>300674</th>\n",
       "      <td>2.344444</td>\n",
       "    </tr>\n",
       "    <tr>\n",
       "      <th>300675</th>\n",
       "      <td>1.025000</td>\n",
       "    </tr>\n",
       "    <tr>\n",
       "      <th>300681</th>\n",
       "      <td>2.902778</td>\n",
       "    </tr>\n",
       "    <tr>\n",
       "      <th>300683</th>\n",
       "      <td>2.928889</td>\n",
       "    </tr>\n",
       "    <tr>\n",
       "      <th>300689</th>\n",
       "      <td>3.649722</td>\n",
       "    </tr>\n",
       "  </tbody>\n",
       "</table>\n",
       "<p>48067 rows × 1 columns</p>\n",
       "</div>"
      ],
      "text/plain": [
       "        Request_Closing_Time_Hour\n",
       "0                        0.920833\n",
       "12                       2.482500\n",
       "19                       0.784722\n",
       "38                       0.491111\n",
       "54                       1.495556\n",
       "...                           ...\n",
       "300674                   2.344444\n",
       "300675                   1.025000\n",
       "300681                   2.902778\n",
       "300683                   2.928889\n",
       "300689                   3.649722\n",
       "\n",
       "[48067 rows x 1 columns]"
      ]
     },
     "execution_count": 153,
     "metadata": {},
     "output_type": "execute_result"
    }
   ],
   "source": [
    "Noise_Street_Sidewalk_loc=clean_analysed_service311.loc[ clean_analysed_service311[\"Complaint Type\"]==\"Noise - Street/Sidewalk\", [\"Request_Closing_Time_Hour\"] ]\n",
    "Noise_Street_Sidewalk_loc"
   ]
  },
  {
   "cell_type": "code",
   "execution_count": 154,
   "id": "4d71e38b",
   "metadata": {},
   "outputs": [
    {
     "data": {
      "text/html": [
       "<div>\n",
       "<style scoped>\n",
       "    .dataframe tbody tr th:only-of-type {\n",
       "        vertical-align: middle;\n",
       "    }\n",
       "\n",
       "    .dataframe tbody tr th {\n",
       "        vertical-align: top;\n",
       "    }\n",
       "\n",
       "    .dataframe thead th {\n",
       "        text-align: right;\n",
       "    }\n",
       "</style>\n",
       "<table border=\"1\" class=\"dataframe\">\n",
       "  <thead>\n",
       "    <tr style=\"text-align: right;\">\n",
       "      <th></th>\n",
       "      <th>Request_Closing_Time_Hour</th>\n",
       "    </tr>\n",
       "  </thead>\n",
       "  <tbody>\n",
       "    <tr>\n",
       "      <th>17</th>\n",
       "      <td>0.852222</td>\n",
       "    </tr>\n",
       "    <tr>\n",
       "      <th>18</th>\n",
       "      <td>2.933611</td>\n",
       "    </tr>\n",
       "    <tr>\n",
       "      <th>22</th>\n",
       "      <td>1.261667</td>\n",
       "    </tr>\n",
       "    <tr>\n",
       "      <th>29</th>\n",
       "      <td>2.499722</td>\n",
       "    </tr>\n",
       "    <tr>\n",
       "      <th>30</th>\n",
       "      <td>1.985833</td>\n",
       "    </tr>\n",
       "    <tr>\n",
       "      <th>...</th>\n",
       "      <td>...</td>\n",
       "    </tr>\n",
       "    <tr>\n",
       "      <th>300691</th>\n",
       "      <td>2.290000</td>\n",
       "    </tr>\n",
       "    <tr>\n",
       "      <th>300692</th>\n",
       "      <td>0.641389</td>\n",
       "    </tr>\n",
       "    <tr>\n",
       "      <th>300695</th>\n",
       "      <td>3.121389</td>\n",
       "    </tr>\n",
       "    <tr>\n",
       "      <th>300696</th>\n",
       "      <td>4.092500</td>\n",
       "    </tr>\n",
       "    <tr>\n",
       "      <th>300697</th>\n",
       "      <td>4.146944</td>\n",
       "    </tr>\n",
       "  </tbody>\n",
       "</table>\n",
       "<p>35242 rows × 1 columns</p>\n",
       "</div>"
      ],
      "text/plain": [
       "        Request_Closing_Time_Hour\n",
       "17                       0.852222\n",
       "18                       2.933611\n",
       "22                       1.261667\n",
       "29                       2.499722\n",
       "30                       1.985833\n",
       "...                           ...\n",
       "300691                   2.290000\n",
       "300692                   0.641389\n",
       "300695                   3.121389\n",
       "300696                   4.092500\n",
       "300697                   4.146944\n",
       "\n",
       "[35242 rows x 1 columns]"
      ]
     },
     "execution_count": 154,
     "metadata": {},
     "output_type": "execute_result"
    }
   ],
   "source": [
    "Noise_Commercial_loc=clean_analysed_service311.loc[ clean_analysed_service311[\"Complaint Type\"]==\"Noise - Commercial\", [\"Request_Closing_Time_Hour\"] ]\n",
    "Noise_Commercial_loc"
   ]
  },
  {
   "cell_type": "code",
   "execution_count": 155,
   "id": "52f60b24",
   "metadata": {},
   "outputs": [
    {
     "data": {
      "text/html": [
       "<div>\n",
       "<style scoped>\n",
       "    .dataframe tbody tr th:only-of-type {\n",
       "        vertical-align: middle;\n",
       "    }\n",
       "\n",
       "    .dataframe tbody tr th {\n",
       "        vertical-align: top;\n",
       "    }\n",
       "\n",
       "    .dataframe thead th {\n",
       "        text-align: right;\n",
       "    }\n",
       "</style>\n",
       "<table border=\"1\" class=\"dataframe\">\n",
       "  <thead>\n",
       "    <tr style=\"text-align: right;\">\n",
       "      <th></th>\n",
       "      <th>Request_Closing_Time_Hour</th>\n",
       "    </tr>\n",
       "  </thead>\n",
       "  <tbody>\n",
       "    <tr>\n",
       "      <th>14</th>\n",
       "      <td>10.489722</td>\n",
       "    </tr>\n",
       "    <tr>\n",
       "      <th>151</th>\n",
       "      <td>3.950278</td>\n",
       "    </tr>\n",
       "    <tr>\n",
       "      <th>255</th>\n",
       "      <td>1.364722</td>\n",
       "    </tr>\n",
       "    <tr>\n",
       "      <th>256</th>\n",
       "      <td>4.133056</td>\n",
       "    </tr>\n",
       "    <tr>\n",
       "      <th>295</th>\n",
       "      <td>0.753333</td>\n",
       "    </tr>\n",
       "    <tr>\n",
       "      <th>...</th>\n",
       "      <td>...</td>\n",
       "    </tr>\n",
       "    <tr>\n",
       "      <th>300476</th>\n",
       "      <td>10.081111</td>\n",
       "    </tr>\n",
       "    <tr>\n",
       "      <th>300488</th>\n",
       "      <td>3.818333</td>\n",
       "    </tr>\n",
       "    <tr>\n",
       "      <th>300500</th>\n",
       "      <td>2.748056</td>\n",
       "    </tr>\n",
       "    <tr>\n",
       "      <th>300523</th>\n",
       "      <td>1.830278</td>\n",
       "    </tr>\n",
       "    <tr>\n",
       "      <th>300593</th>\n",
       "      <td>4.757778</td>\n",
       "    </tr>\n",
       "  </tbody>\n",
       "</table>\n",
       "<p>17580 rows × 1 columns</p>\n",
       "</div>"
      ],
      "text/plain": [
       "        Request_Closing_Time_Hour\n",
       "14                      10.489722\n",
       "151                      3.950278\n",
       "255                      1.364722\n",
       "256                      4.133056\n",
       "295                      0.753333\n",
       "...                           ...\n",
       "300476                  10.081111\n",
       "300488                   3.818333\n",
       "300500                   2.748056\n",
       "300523                   1.830278\n",
       "300593                   4.757778\n",
       "\n",
       "[17580 rows x 1 columns]"
      ]
     },
     "execution_count": 155,
     "metadata": {},
     "output_type": "execute_result"
    }
   ],
   "source": [
    "Derelict_Vehicle_loc=clean_analysed_service311.loc[ clean_analysed_service311[\"Complaint Type\"]==\"Derelict Vehicle\", [\"Request_Closing_Time_Hour\"] ]\n",
    "Derelict_Vehicle_loc"
   ]
  },
  {
   "cell_type": "code",
   "execution_count": 156,
   "id": "e2a077a4",
   "metadata": {},
   "outputs": [],
   "source": [
    "# Using the built-in method to perform the one-way ANOVA test to determine the p-value\n",
    "stats_anova,pvalue_anova=stats.f_oneway(Blocked_Driveway_loc,Illegal_Parking_loc,Noise_Street_Sidewalk_loc,Noise_Commercial_loc,Derelict_Vehicle_loc)"
   ]
  },
  {
   "cell_type": "code",
   "execution_count": 157,
   "id": "d3b68822",
   "metadata": {},
   "outputs": [
    {
     "name": "stdout",
     "output_type": "stream",
     "text": [
      "Alternate Hypothesis\n"
     ]
    }
   ],
   "source": [
    "if pvalue_anova>0.05:\n",
    "    print(\"Null Hypothesis\")\n",
    "else:\n",
    "    print(\"Alternate Hypothesis\")"
   ]
  },
  {
   "cell_type": "markdown",
   "id": "dac26eac",
   "metadata": {},
   "source": [
    "**As Our code suggests that the p-value is less than 0.05 we can reject the NULL HYPOTHESIS**"
   ]
  },
  {
   "cell_type": "markdown",
   "id": "aec8b5ea",
   "metadata": {},
   "source": [
    "**H1: Avg response time is not same across complaint types**"
   ]
  },
  {
   "cell_type": "code",
   "execution_count": null,
   "id": "4b0f2e48",
   "metadata": {},
   "outputs": [],
   "source": []
  },
  {
   "cell_type": "markdown",
   "id": "1b679467",
   "metadata": {},
   "source": [
    "**b) Are the type of complaint or service requested and location related?**"
   ]
  },
  {
   "cell_type": "markdown",
   "id": "a55f2beb",
   "metadata": {},
   "source": [
    "*H0:The type of complaint or service requested and location is related*\n",
    "\n",
    "*Ha:There is atleast one complaint that is significantly different from the location*"
   ]
  },
  {
   "cell_type": "code",
   "execution_count": 158,
   "id": "d739e636",
   "metadata": {},
   "outputs": [
    {
     "data": {
      "text/html": [
       "<div>\n",
       "<style scoped>\n",
       "    .dataframe tbody tr th:only-of-type {\n",
       "        vertical-align: middle;\n",
       "    }\n",
       "\n",
       "    .dataframe tbody tr th {\n",
       "        vertical-align: top;\n",
       "    }\n",
       "\n",
       "    .dataframe thead th {\n",
       "        text-align: right;\n",
       "    }\n",
       "</style>\n",
       "<table border=\"1\" class=\"dataframe\">\n",
       "  <thead>\n",
       "    <tr style=\"text-align: right;\">\n",
       "      <th>Location Type</th>\n",
       "      <th>Bridge</th>\n",
       "      <th>Club/Bar/Restaurant</th>\n",
       "      <th>Commercial</th>\n",
       "      <th>Highway</th>\n",
       "      <th>House and Store</th>\n",
       "      <th>House of Worship</th>\n",
       "      <th>Park</th>\n",
       "      <th>Park/Playground</th>\n",
       "      <th>Parking Lot</th>\n",
       "      <th>Residential Building</th>\n",
       "      <th>Residential Building/House</th>\n",
       "      <th>Roadway Tunnel</th>\n",
       "      <th>Store/Commercial</th>\n",
       "      <th>Street/Sidewalk</th>\n",
       "      <th>Subway Station</th>\n",
       "      <th>Vacant Lot</th>\n",
       "    </tr>\n",
       "    <tr>\n",
       "      <th>Complaint Type</th>\n",
       "      <th></th>\n",
       "      <th></th>\n",
       "      <th></th>\n",
       "      <th></th>\n",
       "      <th></th>\n",
       "      <th></th>\n",
       "      <th></th>\n",
       "      <th></th>\n",
       "      <th></th>\n",
       "      <th></th>\n",
       "      <th></th>\n",
       "      <th></th>\n",
       "      <th></th>\n",
       "      <th></th>\n",
       "      <th></th>\n",
       "      <th></th>\n",
       "    </tr>\n",
       "  </thead>\n",
       "  <tbody>\n",
       "    <tr>\n",
       "      <th>Animal Abuse</th>\n",
       "      <td>0</td>\n",
       "      <td>0</td>\n",
       "      <td>62</td>\n",
       "      <td>0</td>\n",
       "      <td>93</td>\n",
       "      <td>0</td>\n",
       "      <td>0</td>\n",
       "      <td>122</td>\n",
       "      <td>110</td>\n",
       "      <td>227</td>\n",
       "      <td>5081</td>\n",
       "      <td>0</td>\n",
       "      <td>521</td>\n",
       "      <td>1527</td>\n",
       "      <td>22</td>\n",
       "      <td>0</td>\n",
       "    </tr>\n",
       "    <tr>\n",
       "      <th>Animal in a Park</th>\n",
       "      <td>0</td>\n",
       "      <td>0</td>\n",
       "      <td>0</td>\n",
       "      <td>0</td>\n",
       "      <td>0</td>\n",
       "      <td>0</td>\n",
       "      <td>1</td>\n",
       "      <td>0</td>\n",
       "      <td>0</td>\n",
       "      <td>0</td>\n",
       "      <td>0</td>\n",
       "      <td>0</td>\n",
       "      <td>0</td>\n",
       "      <td>0</td>\n",
       "      <td>0</td>\n",
       "      <td>0</td>\n",
       "    </tr>\n",
       "    <tr>\n",
       "      <th>Bike/Roller/Skate Chronic</th>\n",
       "      <td>0</td>\n",
       "      <td>0</td>\n",
       "      <td>0</td>\n",
       "      <td>0</td>\n",
       "      <td>0</td>\n",
       "      <td>0</td>\n",
       "      <td>0</td>\n",
       "      <td>0</td>\n",
       "      <td>0</td>\n",
       "      <td>0</td>\n",
       "      <td>25</td>\n",
       "      <td>0</td>\n",
       "      <td>53</td>\n",
       "      <td>346</td>\n",
       "      <td>0</td>\n",
       "      <td>0</td>\n",
       "    </tr>\n",
       "    <tr>\n",
       "      <th>Blocked Driveway</th>\n",
       "      <td>0</td>\n",
       "      <td>0</td>\n",
       "      <td>0</td>\n",
       "      <td>0</td>\n",
       "      <td>0</td>\n",
       "      <td>0</td>\n",
       "      <td>0</td>\n",
       "      <td>0</td>\n",
       "      <td>0</td>\n",
       "      <td>0</td>\n",
       "      <td>0</td>\n",
       "      <td>0</td>\n",
       "      <td>0</td>\n",
       "      <td>76773</td>\n",
       "      <td>0</td>\n",
       "      <td>0</td>\n",
       "    </tr>\n",
       "    <tr>\n",
       "      <th>Derelict Vehicle</th>\n",
       "      <td>0</td>\n",
       "      <td>0</td>\n",
       "      <td>0</td>\n",
       "      <td>13</td>\n",
       "      <td>0</td>\n",
       "      <td>0</td>\n",
       "      <td>0</td>\n",
       "      <td>0</td>\n",
       "      <td>0</td>\n",
       "      <td>0</td>\n",
       "      <td>0</td>\n",
       "      <td>5</td>\n",
       "      <td>0</td>\n",
       "      <td>17485</td>\n",
       "      <td>0</td>\n",
       "      <td>77</td>\n",
       "    </tr>\n",
       "  </tbody>\n",
       "</table>\n",
       "</div>"
      ],
      "text/plain": [
       "Location Type              Bridge  Club/Bar/Restaurant  Commercial  Highway  \\\n",
       "Complaint Type                                                                \n",
       "Animal Abuse                    0                    0          62        0   \n",
       "Animal in a Park                0                    0           0        0   \n",
       "Bike/Roller/Skate Chronic       0                    0           0        0   \n",
       "Blocked Driveway                0                    0           0        0   \n",
       "Derelict Vehicle                0                    0           0       13   \n",
       "\n",
       "Location Type              House and Store  House of Worship  Park  \\\n",
       "Complaint Type                                                       \n",
       "Animal Abuse                            93                 0     0   \n",
       "Animal in a Park                         0                 0     1   \n",
       "Bike/Roller/Skate Chronic                0                 0     0   \n",
       "Blocked Driveway                         0                 0     0   \n",
       "Derelict Vehicle                         0                 0     0   \n",
       "\n",
       "Location Type              Park/Playground  Parking Lot  Residential Building  \\\n",
       "Complaint Type                                                                  \n",
       "Animal Abuse                           122          110                   227   \n",
       "Animal in a Park                         0            0                     0   \n",
       "Bike/Roller/Skate Chronic                0            0                     0   \n",
       "Blocked Driveway                         0            0                     0   \n",
       "Derelict Vehicle                         0            0                     0   \n",
       "\n",
       "Location Type              Residential Building/House  Roadway Tunnel  \\\n",
       "Complaint Type                                                          \n",
       "Animal Abuse                                     5081               0   \n",
       "Animal in a Park                                    0               0   \n",
       "Bike/Roller/Skate Chronic                          25               0   \n",
       "Blocked Driveway                                    0               0   \n",
       "Derelict Vehicle                                    0               5   \n",
       "\n",
       "Location Type              Store/Commercial  Street/Sidewalk  Subway Station  \\\n",
       "Complaint Type                                                                 \n",
       "Animal Abuse                            521             1527              22   \n",
       "Animal in a Park                          0                0               0   \n",
       "Bike/Roller/Skate Chronic                53              346               0   \n",
       "Blocked Driveway                          0            76773               0   \n",
       "Derelict Vehicle                          0            17485               0   \n",
       "\n",
       "Location Type              Vacant Lot  \n",
       "Complaint Type                         \n",
       "Animal Abuse                        0  \n",
       "Animal in a Park                    0  \n",
       "Bike/Roller/Skate Chronic           0  \n",
       "Blocked Driveway                    0  \n",
       "Derelict Vehicle                   77  "
      ]
     },
     "execution_count": 158,
     "metadata": {},
     "output_type": "execute_result"
    }
   ],
   "source": [
    "# Creating a new dataframe with 'Complaint Type' and 'Location Type'\n",
    "\n",
    "data=pd.crosstab(clean_analysed_service311[\"Complaint Type\"],clean_analysed_service311[\"Location Type\"])\n",
    "data.head()"
   ]
  },
  {
   "cell_type": "code",
   "execution_count": 159,
   "id": "dd217505",
   "metadata": {},
   "outputs": [
    {
     "data": {
      "text/plain": [
       "(22, 16)"
      ]
     },
     "execution_count": 159,
     "metadata": {},
     "output_type": "execute_result"
    }
   ],
   "source": [
    "# Checking the shape of the datframe\n",
    "data.shape"
   ]
  },
  {
   "cell_type": "code",
   "execution_count": 160,
   "id": "0f48ee4a",
   "metadata": {},
   "outputs": [],
   "source": [
    "# using the built-in method in the statistics package of Scipy to calculate the p-value for the Chi-Square test.\n",
    "chi,pvalue,dof,exp=stats.chi2_contingency(data.values)"
   ]
  },
  {
   "cell_type": "code",
   "execution_count": 161,
   "id": "0a4d7964",
   "metadata": {},
   "outputs": [
    {
     "name": "stdout",
     "output_type": "stream",
     "text": [
      "Alternate Hypothesis\n"
     ]
    }
   ],
   "source": [
    "if pvalue>0.05:\n",
    "    print(\"Null Hypothesis\")\n",
    "else:\n",
    "    print(\"Alternate Hypothesis\")"
   ]
  },
  {
   "cell_type": "markdown",
   "id": "9ede98e1",
   "metadata": {},
   "source": [
    "**As Our code suggests that the p-value is less than 0.05 we can reject the NULL HYPOTHESIS**"
   ]
  },
  {
   "cell_type": "markdown",
   "id": "a10e2b9c",
   "metadata": {},
   "source": [
    "**There is atleast one complaint that is significantly different from the location**"
   ]
  }
 ],
 "metadata": {
  "kernelspec": {
   "display_name": "Python 3",
   "language": "python",
   "name": "python3"
  },
  "language_info": {
   "codemirror_mode": {
    "name": "ipython",
    "version": 3
   },
   "file_extension": ".py",
   "mimetype": "text/x-python",
   "name": "python",
   "nbconvert_exporter": "python",
   "pygments_lexer": "ipython3",
   "version": "3.8.8"
  }
 },
 "nbformat": 4,
 "nbformat_minor": 5
}
